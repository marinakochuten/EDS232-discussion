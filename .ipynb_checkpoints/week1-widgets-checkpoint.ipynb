{
 "cells": [
  {
   "cell_type": "markdown",
   "id": "a4bf1560-8ed8-4f4a-93a7-867d2071d7ba",
   "metadata": {},
   "source": [
    "## Introduction\n",
    "\n",
    "In this week’s discussion section, we will be using the same dataset from our weekly lab - Water characteristics in the Hudson River after Hurricane Irene. However, rather than looking at a single predictor variable, we are going to add more! Can we improve our model if we add more variables?? Let’s find out.\n",
    "\n",
    "## Data Loading\n",
    "\n",
    "Access the same .xlsx file we used in lab this week. If you lost access to it, you can find the data here. Instead of looking at only the dissolved oxygen and turbidity data this time, we are also going to read in data on rainfall. Read in each of these sheets on the excel sheet as its own dataframe. Load the following libraries:"
   ]
  },
  {
   "cell_type": "code",
   "execution_count": 1,
   "id": "433f4baa-6710-4d78-9ed7-279106d2ae89",
   "metadata": {
    "tags": []
   },
   "outputs": [],
   "source": [
    "import pandas as pd\n",
    "import numpy as np\n",
    "from sklearn.linear_model import LinearRegression\n",
    "from sklearn.model_selection import train_test_split\n",
    "from sklearn.metrics import mean_squared_error, r2_score\n",
    "import matplotlib.pyplot as plt\n",
    "from ipywidgets import interact\n",
    "import ipywidgets as widgets\n",
    "from ipywidgets import interact, FloatSlider\n",
    "from IPython.display import display, clear_output"
   ]
  },
  {
   "cell_type": "code",
   "execution_count": 2,
   "id": "3ba0704e-f360-4325-a6f9-bcb4dee47351",
   "metadata": {
    "tags": []
   },
   "outputs": [],
   "source": [
    "# Load the data\n",
    "file_path = 'data/hurricane.xlsx'\n",
    "do_data = pd.read_excel(file_path, sheet_name = 5).drop(['Piermont D.O. (ppm)'], axis = 1)\n",
    "rainfall_data = pd.read_excel(file_path, sheet_name = 'Rainfall').drop(['Piermont  Rainfall Daily Accumulation (Inches)'], axis = 1)\n",
    "turbidity_data = pd.read_excel(file_path, sheet_name = 'Turbidity').drop(['Piermont Turbidity in NTU'], axis = 1)"
   ]
  },
  {
   "cell_type": "markdown",
   "id": "c600cd8c-0e64-49b8-9482-e7e57e32f964",
   "metadata": {},
   "source": [
    "## Data Wrangling\n",
    "\n",
    "Perform the following data wrangling steps to get our data ready for our model.\n",
    "\n",
    "1. Merge the three dataframes together. While merging, or after, drop all columns for the Piedmont location.\n",
    "2. Update the column names to be shorter and not have spaces. Use snake case.\n",
    "3. Make your date column a datetime obect.\n",
    "4. Set the data as the index for the merged dataframe."
   ]
  },
  {
   "cell_type": "code",
   "execution_count": 3,
   "id": "2d1cac66-b4a2-4d4c-9ccc-65e3066b5c71",
   "metadata": {
    "tags": []
   },
   "outputs": [
    {
     "data": {
      "text/html": [
       "<div>\n",
       "<style scoped>\n",
       "    .dataframe tbody tr th:only-of-type {\n",
       "        vertical-align: middle;\n",
       "    }\n",
       "\n",
       "    .dataframe tbody tr th {\n",
       "        vertical-align: top;\n",
       "    }\n",
       "\n",
       "    .dataframe thead th {\n",
       "        text-align: right;\n",
       "    }\n",
       "</style>\n",
       "<table border=\"1\" class=\"dataframe\">\n",
       "  <thead>\n",
       "    <tr style=\"text-align: right;\">\n",
       "      <th></th>\n",
       "      <th>Date Time (ET)</th>\n",
       "      <th>Port of Albany D.O. (ppm)</th>\n",
       "      <th>Norrie Point D.O. (ppm)</th>\n",
       "      <th>Port of Albany Rainfall Daily Accumulation (Inches)</th>\n",
       "      <th>Norrie Point  Rainfall Daily Accumulation (Inches)</th>\n",
       "      <th>Port of Albany Turbidity in NTU</th>\n",
       "      <th>Norrie Point Turbidity in NTU</th>\n",
       "    </tr>\n",
       "  </thead>\n",
       "  <tbody>\n",
       "    <tr>\n",
       "      <th>0</th>\n",
       "      <td>2011-08-25 00:00:00</td>\n",
       "      <td>7.68</td>\n",
       "      <td>7.81</td>\n",
       "      <td>0.0</td>\n",
       "      <td>0.0</td>\n",
       "      <td>4.0</td>\n",
       "      <td>9.3</td>\n",
       "    </tr>\n",
       "    <tr>\n",
       "      <th>1</th>\n",
       "      <td>2011-08-25 00:15:00</td>\n",
       "      <td>7.60</td>\n",
       "      <td>7.73</td>\n",
       "      <td>0.0</td>\n",
       "      <td>0.0</td>\n",
       "      <td>3.9</td>\n",
       "      <td>8.4</td>\n",
       "    </tr>\n",
       "    <tr>\n",
       "      <th>2</th>\n",
       "      <td>2011-08-25 00:30:00</td>\n",
       "      <td>7.57</td>\n",
       "      <td>7.63</td>\n",
       "      <td>0.0</td>\n",
       "      <td>0.0</td>\n",
       "      <td>4.3</td>\n",
       "      <td>7.9</td>\n",
       "    </tr>\n",
       "    <tr>\n",
       "      <th>3</th>\n",
       "      <td>2011-08-25 00:45:00</td>\n",
       "      <td>7.72</td>\n",
       "      <td>7.67</td>\n",
       "      <td>0.0</td>\n",
       "      <td>0.0</td>\n",
       "      <td>4.7</td>\n",
       "      <td>8.1</td>\n",
       "    </tr>\n",
       "    <tr>\n",
       "      <th>4</th>\n",
       "      <td>2011-08-25 01:00:00</td>\n",
       "      <td>7.74</td>\n",
       "      <td>7.63</td>\n",
       "      <td>0.0</td>\n",
       "      <td>0.0</td>\n",
       "      <td>4.4</td>\n",
       "      <td>8.4</td>\n",
       "    </tr>\n",
       "  </tbody>\n",
       "</table>\n",
       "</div>"
      ],
      "text/plain": [
       "       Date Time (ET)   Port of Albany D.O. (ppm)  Norrie Point D.O. (ppm)  \\\n",
       "0 2011-08-25 00:00:00                        7.68                     7.81   \n",
       "1 2011-08-25 00:15:00                        7.60                     7.73   \n",
       "2 2011-08-25 00:30:00                        7.57                     7.63   \n",
       "3 2011-08-25 00:45:00                        7.72                     7.67   \n",
       "4 2011-08-25 01:00:00                        7.74                     7.63   \n",
       "\n",
       "    Port of Albany Rainfall Daily Accumulation (Inches)  \\\n",
       "0                                                0.0      \n",
       "1                                                0.0      \n",
       "2                                                0.0      \n",
       "3                                                0.0      \n",
       "4                                                0.0      \n",
       "\n",
       "   Norrie Point  Rainfall Daily Accumulation (Inches)  \\\n",
       "0                                                0.0    \n",
       "1                                                0.0    \n",
       "2                                                0.0    \n",
       "3                                                0.0    \n",
       "4                                                0.0    \n",
       "\n",
       "    Port of Albany Turbidity in NTU  Norrie Point Turbidity in NTU  \n",
       "0                               4.0                            9.3  \n",
       "1                               3.9                            8.4  \n",
       "2                               4.3                            7.9  \n",
       "3                               4.7                            8.1  \n",
       "4                               4.4                            8.4  "
      ]
     },
     "execution_count": 3,
     "metadata": {},
     "output_type": "execute_result"
    }
   ],
   "source": [
    "# 1. Merge dataframes\n",
    "data = do_data.merge(rainfall_data)\n",
    "data = data.merge(turbidity_data)\n",
    "\n",
    "# Take a look\n",
    "data.head(5)"
   ]
  },
  {
   "cell_type": "code",
   "execution_count": 4,
   "id": "8964bf3b-862a-4013-aa75-55d70e6bc561",
   "metadata": {
    "tags": []
   },
   "outputs": [
    {
     "data": {
      "text/plain": [
       "Index(['Date Time (ET)', ' Port of Albany D.O. (ppm)',\n",
       "       'Norrie Point D.O. (ppm)',\n",
       "       ' Port of Albany Rainfall Daily Accumulation (Inches)',\n",
       "       'Norrie Point  Rainfall Daily Accumulation (Inches)',\n",
       "       ' Port of Albany Turbidity in NTU', 'Norrie Point Turbidity in NTU'],\n",
       "      dtype='object')"
      ]
     },
     "execution_count": 4,
     "metadata": {},
     "output_type": "execute_result"
    }
   ],
   "source": [
    "# List column names for easy copy and paste\n",
    "data.columns"
   ]
  },
  {
   "cell_type": "code",
   "execution_count": 5,
   "id": "355d73e7-7884-4bce-b177-eb64916ea4d3",
   "metadata": {
    "tags": []
   },
   "outputs": [
    {
     "data": {
      "text/plain": [
       "Index(['date', 'albany_DO', 'norrie_DO', 'albany_rain', 'norrie_rain',\n",
       "       'albany_turbidity', 'norrie_turbidity'],\n",
       "      dtype='object')"
      ]
     },
     "execution_count": 5,
     "metadata": {},
     "output_type": "execute_result"
    }
   ],
   "source": [
    "# 2. Update column names for simplicity\n",
    "data = data.rename(columns = {\"Date Time (ET)\":\"date\",\n",
    "                              \" Port of Albany D.O. (ppm)\":\"albany_DO\",\n",
    "                              \"Norrie Point D.O. (ppm)\":\"norrie_DO\",\n",
    "                              \" Port of Albany Rainfall Daily Accumulation (Inches)\":\"albany_rain\",\n",
    "                              \"Norrie Point  Rainfall Daily Accumulation (Inches)\":\"norrie_rain\",\n",
    "                              \" Port of Albany Turbidity in NTU\":\"albany_turbidity\",\n",
    "                              \"Norrie Point Turbidity in NTU\":\"norrie_turbidity\"})\n",
    "# Easier way\n",
    "# data.columns = ['date', 'albany_do', 'norrie_do', 'albany_rain', 'norrie_rain', 'albany_turbidity', 'norrie_turbidity']\n",
    "\n",
    "data.columns"
   ]
  },
  {
   "cell_type": "code",
   "execution_count": 6,
   "id": "4bf0e569-fcb7-4799-90da-83d1eb5a2661",
   "metadata": {
    "tags": []
   },
   "outputs": [
    {
     "data": {
      "text/plain": [
       "date                datetime64[ns]\n",
       "albany_DO                  float64\n",
       "norrie_DO                  float64\n",
       "albany_rain                float64\n",
       "norrie_rain                float64\n",
       "albany_turbidity           float64\n",
       "norrie_turbidity           float64\n",
       "dtype: object"
      ]
     },
     "execution_count": 6,
     "metadata": {},
     "output_type": "execute_result"
    }
   ],
   "source": [
    "# 3. Make date column a datetime object\n",
    "data.dtypes   # it already is!"
   ]
  },
  {
   "cell_type": "code",
   "execution_count": 11,
   "id": "5125873f-f3a8-4416-ae7b-7e2ea63bafc6",
   "metadata": {
    "tags": []
   },
   "outputs": [
    {
     "data": {
      "text/html": [
       "<div>\n",
       "<style scoped>\n",
       "    .dataframe tbody tr th:only-of-type {\n",
       "        vertical-align: middle;\n",
       "    }\n",
       "\n",
       "    .dataframe tbody tr th {\n",
       "        vertical-align: top;\n",
       "    }\n",
       "\n",
       "    .dataframe thead th {\n",
       "        text-align: right;\n",
       "    }\n",
       "</style>\n",
       "<table border=\"1\" class=\"dataframe\">\n",
       "  <thead>\n",
       "    <tr style=\"text-align: right;\">\n",
       "      <th></th>\n",
       "      <th>albany_DO</th>\n",
       "      <th>norrie_DO</th>\n",
       "      <th>albany_rain</th>\n",
       "      <th>norrie_rain</th>\n",
       "      <th>albany_turbidity</th>\n",
       "      <th>norrie_turbidity</th>\n",
       "    </tr>\n",
       "    <tr>\n",
       "      <th>date</th>\n",
       "      <th></th>\n",
       "      <th></th>\n",
       "      <th></th>\n",
       "      <th></th>\n",
       "      <th></th>\n",
       "      <th></th>\n",
       "    </tr>\n",
       "  </thead>\n",
       "  <tbody>\n",
       "    <tr>\n",
       "      <th>2011-08-25 00:00:00</th>\n",
       "      <td>7.68</td>\n",
       "      <td>7.81</td>\n",
       "      <td>0.0</td>\n",
       "      <td>0.0</td>\n",
       "      <td>4.0</td>\n",
       "      <td>9.3</td>\n",
       "    </tr>\n",
       "    <tr>\n",
       "      <th>2011-08-25 00:15:00</th>\n",
       "      <td>7.60</td>\n",
       "      <td>7.73</td>\n",
       "      <td>0.0</td>\n",
       "      <td>0.0</td>\n",
       "      <td>3.9</td>\n",
       "      <td>8.4</td>\n",
       "    </tr>\n",
       "    <tr>\n",
       "      <th>2011-08-25 00:30:00</th>\n",
       "      <td>7.57</td>\n",
       "      <td>7.63</td>\n",
       "      <td>0.0</td>\n",
       "      <td>0.0</td>\n",
       "      <td>4.3</td>\n",
       "      <td>7.9</td>\n",
       "    </tr>\n",
       "    <tr>\n",
       "      <th>2011-08-25 00:45:00</th>\n",
       "      <td>7.72</td>\n",
       "      <td>7.67</td>\n",
       "      <td>0.0</td>\n",
       "      <td>0.0</td>\n",
       "      <td>4.7</td>\n",
       "      <td>8.1</td>\n",
       "    </tr>\n",
       "    <tr>\n",
       "      <th>2011-08-25 01:00:00</th>\n",
       "      <td>7.74</td>\n",
       "      <td>7.63</td>\n",
       "      <td>0.0</td>\n",
       "      <td>0.0</td>\n",
       "      <td>4.4</td>\n",
       "      <td>8.4</td>\n",
       "    </tr>\n",
       "  </tbody>\n",
       "</table>\n",
       "</div>"
      ],
      "text/plain": [
       "                     albany_DO  norrie_DO  albany_rain  norrie_rain  \\\n",
       "date                                                                  \n",
       "2011-08-25 00:00:00       7.68       7.81          0.0          0.0   \n",
       "2011-08-25 00:15:00       7.60       7.73          0.0          0.0   \n",
       "2011-08-25 00:30:00       7.57       7.63          0.0          0.0   \n",
       "2011-08-25 00:45:00       7.72       7.67          0.0          0.0   \n",
       "2011-08-25 01:00:00       7.74       7.63          0.0          0.0   \n",
       "\n",
       "                     albany_turbidity  norrie_turbidity  \n",
       "date                                                     \n",
       "2011-08-25 00:00:00               4.0               9.3  \n",
       "2011-08-25 00:15:00               3.9               8.4  \n",
       "2011-08-25 00:30:00               4.3               7.9  \n",
       "2011-08-25 00:45:00               4.7               8.1  \n",
       "2011-08-25 01:00:00               4.4               8.4  "
      ]
     },
     "execution_count": 11,
     "metadata": {},
     "output_type": "execute_result"
    }
   ],
   "source": [
    "# 4. Set the date as the index for the merged dataframe\n",
    "data = data.set_index(data.date)\n",
    "data = data.drop(['date'], axis = 1)\n",
    "data.head()"
   ]
  },
  {
   "cell_type": "markdown",
   "id": "4cdb5811-f72e-4749-942e-1421929f5411",
   "metadata": {},
   "source": [
    "## Multiple Linear Regression\n",
    "\n",
    "Now that our data is cleaned, let’s do the following to carry out a multiple linear regression.\n",
    "\n",
    "1. Define your predictors and target variables.\n",
    "2. Split the data into training and testing sets\n",
    "3. Create and fit the model\n",
    "4. Predict and Evaluate your model"
   ]
  },
  {
   "cell_type": "code",
   "execution_count": 8,
   "id": "3eca31dd-e4f2-43ea-9bf3-ef28977a948d",
   "metadata": {
    "tags": []
   },
   "outputs": [
    {
     "name": "stdout",
     "output_type": "stream",
     "text": [
      "RMSE: 221.9143474905527\n",
      "R-squared: 0.490738951845751\n"
     ]
    }
   ],
   "source": [
    "# 1. Define predictors and target variables\n",
    "X = data[[\"albany_rain\", \"albany_DO\"]]\n",
    "y = data[[\"albany_turbidity\"]]\n",
    "\n",
    "# 2. Split the data into training and testing sets\n",
    "X_train, X_test, y_train, y_test = train_test_split(X, y, test_size = 0.3, random_state = 42)\n",
    "\n",
    "# 3. Create and fit the model\n",
    "model = LinearRegression().fit(X_train, y_train)\n",
    "\n",
    "# 4. Predict and evaluate\n",
    "y_pred = model.predict(X_test)\n",
    "\n",
    "print(f\"RMSE: {np.sqrt(mean_squared_error(y_test, y_pred))}\")\n",
    "print(f\"R-squared: {r2_score(y_test, y_pred)}\")"
   ]
  },
  {
   "cell_type": "markdown",
   "id": "bfef0aaa-2358-407f-ba49-813379d75769",
   "metadata": {},
   "source": [
    "## Create a Widget for updating the predictor and target variables.\n",
    "\n",
    "To play around with our model a bit more and visualize different scenarios, we will create a widget using the `ipywidgets` library\n",
    "\n",
    "1. Create the four different pieces to the widget: the predictor selector, the target selector, the evaluate button, and the output\n",
    "2. Wrap our worfklow into a function called evaluate_model(). This function will run a linear regression model based on what the user selects as predictors and the outcome variable. It will print the , MSE, and a scatterplot of the actual versus predicted target variable.\n",
    "3. Create a warning for your widget to ensure that the user does not select the same variable as both a predictor variable and a target variable.\n",
    "4. Play around with your widget and see how your  changes based on your selected variables!"
   ]
  },
  {
   "cell_type": "code",
   "execution_count": 13,
   "id": "a6e1d1e9-909c-49b7-9254-1ab84bb9d39c",
   "metadata": {
    "tags": []
   },
   "outputs": [
    {
     "data": {
      "application/vnd.jupyter.widget-view+json": {
       "model_id": "d70112913d474c45870a9fafd71bbd89",
       "version_major": 2,
       "version_minor": 0
      },
      "text/plain": [
       "SelectMultiple(description='Predictors', index=(0,), options=('albany_DO', 'norrie_DO', 'albany_rain', 'norrie…"
      ]
     },
     "metadata": {},
     "output_type": "display_data"
    },
    {
     "data": {
      "application/vnd.jupyter.widget-view+json": {
       "model_id": "6b381f9fa34e43968eed48a660ea7ea6",
       "version_major": 2,
       "version_minor": 0
      },
      "text/plain": [
       "Dropdown(description='Target', index=1, options=('albany_DO', 'norrie_DO', 'albany_rain', 'norrie_rain', 'alba…"
      ]
     },
     "metadata": {},
     "output_type": "display_data"
    },
    {
     "data": {
      "application/vnd.jupyter.widget-view+json": {
       "model_id": "0858fa2cb2504fd686c0b8649d05f368",
       "version_major": 2,
       "version_minor": 0
      },
      "text/plain": [
       "Button(description='Evaluate Model', style=ButtonStyle())"
      ]
     },
     "metadata": {},
     "output_type": "display_data"
    },
    {
     "data": {
      "application/vnd.jupyter.widget-view+json": {
       "model_id": "7c3b30f370e84de9975924f89a9ad5e7",
       "version_major": 2,
       "version_minor": 0
      },
      "text/plain": [
       "Output()"
      ]
     },
     "metadata": {},
     "output_type": "display_data"
    }
   ],
   "source": [
    "# Create a widget for selecting predictors\n",
    "predictor_selector = widgets.SelectMultiple(\n",
    "    options = data.columns,\n",
    "    value = [data.columns[0]],\n",
    "    description = 'Predictors'\n",
    ")\n",
    "\n",
    "# Create a dropdown for selecting the target variable\n",
    "target_selector = widgets.Dropdown(\n",
    "    options = data.columns,\n",
    "    value = data.columns[1],\n",
    "    description = 'Target'\n",
    ")\n",
    "\n",
    "# Button to evaluate the model\n",
    "evaluate_button = widgets.Button(description = 'Evaluate Model')\n",
    "\n",
    "# Output widget to display results\n",
    "output = widgets.Output()\n",
    "\n",
    "# Define the function to handle button clicks\n",
    "def evaluate_model(b):\n",
    "    with output:\n",
    "        clear_output(wait=True) # Clear output of display area\n",
    "        \n",
    "        # Make sure the target is not in the predictors\n",
    "        selected_predictors = [item for item in predictor_selector.value]\n",
    "        if target_selector.value in selected_predictors :\n",
    "            print(\"Target variable must not be in the predictors.\")\n",
    "            return\n",
    "        \n",
    "        # Prepare the data\n",
    "        X = data[selected_predictors]\n",
    "        y = data[target_selector.value]\n",
    "        \n",
    "        # Split data into training and testing sets\n",
    "        X_train, X_test, y_train, y_test = train_test_split(X, y, test_size = 0.3, random_state = 42)\n",
    "        \n",
    "        # Create and fit the model\n",
    "        model = LinearRegression().fit(X_train, y_train)\n",
    "        \n",
    "        # Predict and calculate R^2 and MSE\n",
    "        y_pred = model.predict(X_test)\n",
    "        r2 = r2_score(y_test, y_pred)\n",
    "        mse = mean_squared_error(y_test, y_pred)\n",
    "        \n",
    "        # Display the R^2 score and MSE\n",
    "        print(f\"R^2: {r2:.4f}\")\n",
    "        print(f\"MSE: {mse:.4f}\")\n",
    "        \n",
    "        #plt.scatter()\n",
    "        \n",
    "# Display the widgets and connect the button to the function\n",
    "display(predictor_selector, target_selector, evaluate_button, output)\n",
    "evaluate_button.on_click(evaluate_model)"
   ]
  },
  {
   "cell_type": "code",
   "execution_count": null,
   "id": "8b61aedf-4b5b-408e-bff6-4acffca43c6b",
   "metadata": {},
   "outputs": [],
   "source": []
  }
 ],
 "metadata": {
  "kernelspec": {
   "display_name": "Anaconda 3 (EDS232)",
   "language": "python",
   "name": "ml-env"
  },
  "language_info": {
   "codemirror_mode": {
    "name": "ipython",
    "version": 3
   },
   "file_extension": ".py",
   "mimetype": "text/x-python",
   "name": "python",
   "nbconvert_exporter": "python",
   "pygments_lexer": "ipython3",
   "version": "3.10.16"
  }
 },
 "nbformat": 4,
 "nbformat_minor": 5
}
