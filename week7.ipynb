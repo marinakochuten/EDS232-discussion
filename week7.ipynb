{
 "cells": [
  {
   "cell_type": "markdown",
   "id": "e5ba352a-a7d5-4d1f-964a-bcdc9e0af042",
   "metadata": {},
   "source": [
    "## Introduction\n",
    "\n",
    "In this week’s discussion section, we will use a dataset containing tweets related to different disasters. For each observation (tweet), there is an outcome variable that classifies the disasters talked about in the tweet as real (1), or not (0). Rather than having multiple predictors as our X, we will have one predictor - the tweet. However, each individual word can be thought of as their own predictor, each contributing to predicting our outcome variable.\n",
    "\n",
    "## Data\n",
    "\n",
    "The dataset this week is a commonly used dataset for NLP (Natural Language Processing). The dataset can be found here. Disasters.csv includes a text variable, which contains the tweet as a string. Our target variable, target, is a binary outcome variable with 1 representing the disaster discussed as real, and 0 representing the disaster discussed as not real.\n",
    "\n",
    "## Excercise\n",
    "\n",
    "Load in libraries and data"
   ]
  },
  {
   "cell_type": "code",
   "execution_count": 9,
   "id": "c7b547c9-4bf7-4e46-a92f-62b02bdda87f",
   "metadata": {
    "tags": []
   },
   "outputs": [],
   "source": [
    "import pandas as pd\n",
    "import numpy as np\n",
    "from sklearn.model_selection import train_test_split\n",
    "from sklearn.feature_extraction.text import TfidfVectorizer, CountVectorizer\n",
    "from sklearn.linear_model import LogisticRegression\n",
    "from sklearn.metrics import classification_report, f1_score, accuracy_score, confusion_matrix\n",
    "from sklearn.metrics import roc_curve, auc, roc_auc_score\n",
    "import re\n",
    "import string\n",
    "import matplotlib.pyplot as plt\n",
    "import seaborn as sns"
   ]
  },
  {
   "cell_type": "code",
   "execution_count": 11,
   "id": "d122d4e5-62d7-4abe-8c1f-a520f1c99893",
   "metadata": {
    "tags": []
   },
   "outputs": [],
   "source": [
    "# Read in the data\n",
    "disaster = pd.read_csv('data/disaster.csv')"
   ]
  },
  {
   "cell_type": "markdown",
   "id": "b454226e-3857-4c78-ae6a-e8018d7c1b9a",
   "metadata": {},
   "source": [
    "## Clean text data\n",
    "\n",
    "Work with a partner and annotate what each line in the code chunk below is doing."
   ]
  },
  {
   "cell_type": "code",
   "execution_count": 80,
   "id": "a3ced56c-0bee-4d78-a719-ac7fbf8fb70d",
   "metadata": {
    "tags": []
   },
   "outputs": [],
   "source": [
    "test = \"  THis_is my ^CRazy?. <span> --th&$oingsa[6]\""
   ]
  },
  {
   "cell_type": "code",
   "execution_count": 81,
   "id": "e5e9c1d6-7378-49d2-a238-d8364a7540ee",
   "metadata": {
    "tags": []
   },
   "outputs": [],
   "source": [
    "# Cleaning text data\n",
    "def preprocess(text):\n",
    "    # Make all text lowercase\n",
    "    text = text.lower() \n",
    "    # Removes trailing and leading whitespaces\n",
    "    text=  text.strip()  \n",
    "    # Remove HTML syntax\n",
    "    text=  re.sub(r'<.*?>','', text) \n",
    "    # Remove all special charaters except underscore\n",
    "    text = re.sub(r'[^\\w\\s]','',text) \n",
    "    # Remove references\n",
    "    text = re.sub(r'\\[[0-9]*\\]',' ',text) \n",
    "    # Remove digits\n",
    "    text = re.sub(r'\\d',' ',text) \n",
    "    # Collapse multiple spaces into a single space\n",
    "    text = re.sub(r'\\s+', ' ', text) \n",
    "    return text"
   ]
  },
  {
   "cell_type": "code",
   "execution_count": 83,
   "id": "15fe866a-ce96-4d83-b88a-123cbd69f298",
   "metadata": {
    "tags": []
   },
   "outputs": [
    {
     "data": {
      "text/html": [
       "<div>\n",
       "<style scoped>\n",
       "    .dataframe tbody tr th:only-of-type {\n",
       "        vertical-align: middle;\n",
       "    }\n",
       "\n",
       "    .dataframe tbody tr th {\n",
       "        vertical-align: top;\n",
       "    }\n",
       "\n",
       "    .dataframe thead th {\n",
       "        text-align: right;\n",
       "    }\n",
       "</style>\n",
       "<table border=\"1\" class=\"dataframe\">\n",
       "  <thead>\n",
       "    <tr style=\"text-align: right;\">\n",
       "      <th></th>\n",
       "      <th>id</th>\n",
       "      <th>keyword</th>\n",
       "      <th>location</th>\n",
       "      <th>text</th>\n",
       "      <th>target</th>\n",
       "      <th>clean_text</th>\n",
       "    </tr>\n",
       "  </thead>\n",
       "  <tbody>\n",
       "    <tr>\n",
       "      <th>0</th>\n",
       "      <td>1</td>\n",
       "      <td>NaN</td>\n",
       "      <td>NaN</td>\n",
       "      <td>Our Deeds are the Reason of this #earthquake M...</td>\n",
       "      <td>1</td>\n",
       "      <td>our deeds are the reason of this earthquake ma...</td>\n",
       "    </tr>\n",
       "    <tr>\n",
       "      <th>1</th>\n",
       "      <td>4</td>\n",
       "      <td>NaN</td>\n",
       "      <td>NaN</td>\n",
       "      <td>Forest fire near La Ronge Sask. Canada</td>\n",
       "      <td>1</td>\n",
       "      <td>forest fire near la ronge sask canada</td>\n",
       "    </tr>\n",
       "    <tr>\n",
       "      <th>2</th>\n",
       "      <td>5</td>\n",
       "      <td>NaN</td>\n",
       "      <td>NaN</td>\n",
       "      <td>All residents asked to 'shelter in place' are ...</td>\n",
       "      <td>1</td>\n",
       "      <td>all residents asked to shelter in place are be...</td>\n",
       "    </tr>\n",
       "    <tr>\n",
       "      <th>3</th>\n",
       "      <td>6</td>\n",
       "      <td>NaN</td>\n",
       "      <td>NaN</td>\n",
       "      <td>13,000 people receive #wildfires evacuation or...</td>\n",
       "      <td>1</td>\n",
       "      <td>people receive wildfires evacuation orders in...</td>\n",
       "    </tr>\n",
       "    <tr>\n",
       "      <th>4</th>\n",
       "      <td>7</td>\n",
       "      <td>NaN</td>\n",
       "      <td>NaN</td>\n",
       "      <td>Just got sent this photo from Ruby #Alaska as ...</td>\n",
       "      <td>1</td>\n",
       "      <td>just got sent this photo from ruby alaska as s...</td>\n",
       "    </tr>\n",
       "  </tbody>\n",
       "</table>\n",
       "</div>"
      ],
      "text/plain": [
       "   id keyword location                                               text  \\\n",
       "0   1     NaN      NaN  Our Deeds are the Reason of this #earthquake M...   \n",
       "1   4     NaN      NaN             Forest fire near La Ronge Sask. Canada   \n",
       "2   5     NaN      NaN  All residents asked to 'shelter in place' are ...   \n",
       "3   6     NaN      NaN  13,000 people receive #wildfires evacuation or...   \n",
       "4   7     NaN      NaN  Just got sent this photo from Ruby #Alaska as ...   \n",
       "\n",
       "   target                                         clean_text  \n",
       "0       1  our deeds are the reason of this earthquake ma...  \n",
       "1       1              forest fire near la ronge sask canada  \n",
       "2       1  all residents asked to shelter in place are be...  \n",
       "3       1   people receive wildfires evacuation orders in...  \n",
       "4       1  just got sent this photo from ruby alaska as s...  "
      ]
     },
     "execution_count": 83,
     "metadata": {},
     "output_type": "execute_result"
    }
   ],
   "source": [
    "# Apply string cleaning to text variable\n",
    "disaster['clean_text'] = disaster['text'].apply(preprocess)\n",
    "disaster.head()"
   ]
  },
  {
   "cell_type": "markdown",
   "id": "f258e576-2d46-46d3-b790-853c65e144fe",
   "metadata": {},
   "source": [
    "## What about stop words?"
   ]
  },
  {
   "cell_type": "code",
   "execution_count": 89,
   "id": "f7f16ea8-47ad-4a68-bfde-69fcd27ea700",
   "metadata": {
    "tags": []
   },
   "outputs": [
    {
     "name": "stdout",
     "output_type": "stream",
     "text": [
      "Remaining words\n",
      "['5th' 'awesome' 'capstone' 'crush' 'march' 'presentation' 'team']\n"
     ]
    }
   ],
   "source": [
    "# Proof that Tfidf vectorizer excludes stopwords\n",
    "stop_words_ex = [\"On March 5th, I will crush my capstone presentation with my awesome team\"]\n",
    "\n",
    "vectorizer_english = TfidfVectorizer(stop_words = 'english')\n",
    "vectorizer_english.fit_transform(stop_words_ex)\n",
    "\n",
    "print(\"Remaining words\")\n",
    "print(vectorizer_english.get_feature_names_out())"
   ]
  },
  {
   "cell_type": "markdown",
   "id": "ff2a2e14-ae23-489a-96f4-c5561f4b7ff2",
   "metadata": {},
   "source": [
    "Normally, lemmatization would be a step here to pull out base words, but we would have had to load a package that conflicts with our environment\n",
    "\n",
    "## Logistic regression"
   ]
  },
  {
   "cell_type": "code",
   "execution_count": 91,
   "id": "6ef34ca3-ad16-44b8-963e-d8ec6f71eaf7",
   "metadata": {
    "tags": []
   },
   "outputs": [],
   "source": [
    "# Split into test and train\n",
    "X_train, X_test, y_train, y_test = train_test_split(disaster[\"clean_text\"], \n",
    "                                                    disaster[\"target\"], \n",
    "                                                    test_size = 0.3, \n",
    "                                                    random_state = 42)"
   ]
  },
  {
   "cell_type": "code",
   "execution_count": 93,
   "id": "c0ac8d0e-0ae8-4174-b9bd-86d901476544",
   "metadata": {
    "tags": []
   },
   "outputs": [],
   "source": [
    "# Vectorize words\n",
    "# Tfidf: term frequency invserse document frequency. tells us the most distinctive words in our dataset\n",
    "tfidf_vectorizer = TfidfVectorizer(stop_words = 'english')\n",
    "X_train_tfidf = tfidf_vectorizer.fit_transform(X_train)\n",
    "X_test_tfidf = tfidf_vectorizer.transform(X_test)"
   ]
  },
  {
   "cell_type": "code",
   "execution_count": 95,
   "id": "eccf6608-5ca5-42b3-818b-c25a9878b135",
   "metadata": {
    "tags": []
   },
   "outputs": [],
   "source": [
    "# Initialize a logistic regression model and fit to vectorized training data\n",
    "lr_model = LogisticRegression(random_state=42)\n",
    "lr_model.fit(X_train_tfidf, y_train)\n",
    "y_pred = lr_model.predict(X_test_tfidf)"
   ]
  },
  {
   "cell_type": "markdown",
   "id": "9d7afa7e-5566-40a2-a1ad-98fd05a0783f",
   "metadata": {},
   "source": [
    "## Logistic Regression Results"
   ]
  },
  {
   "cell_type": "code",
   "execution_count": 96,
   "id": "09024406-7ac0-4059-831c-6512f62104d7",
   "metadata": {
    "tags": []
   },
   "outputs": [
    {
     "name": "stdout",
     "output_type": "stream",
     "text": [
      "Accuracy: 0.803415061295972\n"
     ]
    },
    {
     "data": {
      "image/png": "[encoded data removed]",
      "text/plain": [
       "<Figure size 800x600 with 2 Axes>"
      ]
     },
     "metadata": {},
     "output_type": "display_data"
    }
   ],
   "source": [
    "# Calculate LR accuracy\n",
    "accuracy = accuracy_score(y_test, y_pred)\n",
    "print(f\"Accuracy: {accuracy}\")\n",
    "# Create confusion matrix for correctly/incorrectly predicting outcome variable \n",
    "cm = confusion_matrix(y_test, y_pred)\n",
    "plt.figure(figsize = (8,6))\n",
    "sns.heatmap(cm, annot = True, fmt = 'd', cmap = 'GnBu',\n",
    "           xticklabels = [\"No disaster\", \"Disaster\"],\n",
    "           yticklabels = [\"No disaster\", \"Disaster\"])\n",
    "plt.title('Logistic Regression Model Performance')\n",
    "plt.ylabel('True Label')\n",
    "plt.xlabel('Predicted Label')\n",
    "plt.show()"
   ]
  },
  {
   "cell_type": "markdown",
   "id": "f505d8bf-7791-4a01-83da-d3b2c8eeed1f",
   "metadata": {},
   "source": [
    "## Test model with new data"
   ]
  },
  {
   "cell_type": "code",
   "execution_count": 98,
   "id": "64d602d9-ec53-438c-b416-74c77475f504",
   "metadata": {
    "tags": []
   },
   "outputs": [
    {
     "name": "stdout",
     "output_type": "stream",
     "text": [
      "Text: BREAKING: Massive earthquake hits the coast\n",
      "Prediction: Real Disaster\n",
      "\n",
      "Text: I love watching disaster movies on Netflix\n",
      "Prediction: Not a Real Disaster\n",
      "\n",
      "Text: Thousands evacuated as hurricane approaches\n",
      "Prediction: Real Disaster\n",
      "\n",
      "Text: Theeeeeeesssss is a disassterrrrr\n",
      "Prediction: Not a Real Disaster\n",
      "\n",
      "Text: It's Windy\n",
      "Prediction: Not a Real Disaster\n",
      "\n",
      "Text: The Palisades fire has damaged over 7,000 structures\n",
      "Prediction: Not a Real Disaster\n",
      "\n",
      "Text: I dropped my pencil and I am too lazy to pick it up myself\n",
      "Prediction: Not a Real Disaster\n",
      "\n",
      "Text: Oh no!\n",
      "Prediction: Not a Real Disaster\n",
      "\n",
      "Text: WHAT ABOUT THE MEG!?!\n",
      "Prediction: Not a Real Disaster\n",
      "\n"
     ]
    }
   ],
   "source": [
    "# Preprocess new phrases\n",
    "new_text = [\n",
    "    \"BREAKING: Massive earthquake hits the coast\",\n",
    "    \"I love watching disaster movies on Netflix\",\n",
    "    \"Thousands evacuated as hurricane approaches\",\n",
    "    \"Theeeeeeesssss is a disassterrrrr\",\n",
    "    \"It's Windy\",\n",
    "    \"The Palisades fire has damaged over 7,000 structures\",\n",
    "    \"I dropped my pencil and I am too lazy to pick it up myself\",\n",
    "    \"Oh no!\",\n",
    "    \"WHAT ABOUT THE MEG!?!\"\n",
    "]\n",
    "\n",
    "# Preprocess new phrases\n",
    "cleaned_new_text = [preprocess(text) for text in new_text]\n",
    "\n",
    "# Transform using TF-IDF vectorizer\n",
    "new_features = tfidf_vectorizer.transform(cleaned_new_text)\n",
    "\n",
    "# Make predictions\n",
    "predictions = lr_model.predict(new_features)\n",
    "\n",
    "# Check outcomes\n",
    "for text, pred in zip(new_text, predictions):\n",
    "    print(f\"Text: {text}\")\n",
    "    print(f\"Prediction: {'Real Disaster' if pred == 1 else 'Not a Real Disaster'}\\n\")"
   ]
  },
  {
   "cell_type": "code",
   "execution_count": null,
   "id": "a8041122-254d-48d6-9ba4-ec9fd159cd85",
   "metadata": {},
   "outputs": [],
   "source": []
  }
 ],
 "metadata": {
  "kernelspec": {
   "display_name": "Anaconda 3 (EDS232)",
   "language": "python",
   "name": "ml-env"
  },
  "language_info": {
   "codemirror_mode": {
    "name": "ipython",
    "version": 3
   },
   "file_extension": ".py",
   "mimetype": "text/x-python",
   "name": "python",
   "nbconvert_exporter": "python",
   "pygments_lexer": "ipython3",
   "version": "3.10.16"
  }
 },
 "nbformat": 4,
 "nbformat_minor": 5
}
