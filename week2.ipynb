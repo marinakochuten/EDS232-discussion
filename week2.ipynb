{
 "cells": [
  {
   "cell_type": "markdown",
   "id": "ebe8918a-8338-47ad-8ddc-6994a0615a2e",
   "metadata": {},
   "source": [
    "## Introduction\n",
    "\n",
    "In this week’s discussion section, we will create some interactive plots to better undertsand how lasso and ridge regression are at work. To do so, we will use synthesized data that is made with the intention of better understanding how ridge and lasso regression are different based on the relationship of your parameters. It is important to note that your results with real data may look very different - unlike this notebook, the real world data you will be working with was not made to better understand regression models.\n",
    "\n",
    "## Data Loading\n",
    "\n",
    "Copy the code below to load the neessary libraries genereate the data we will use. Read the comments to on each feature to get an idea of the relationship between variables."
   ]
  },
  {
   "cell_type": "code",
   "execution_count": 8,
   "id": "505ee76c-28f2-4221-af1a-7e36c61be040",
   "metadata": {
    "tags": []
   },
   "outputs": [],
   "source": [
    "# Import necessary libraries\n",
    "import numpy as np\n",
    "import pandas as pd\n",
    "import matplotlib.pyplot as plt\n",
    "from sklearn.model_selection import train_test_split\n",
    "from sklearn.linear_model import Lasso, Ridge\n",
    "from sklearn.metrics import mean_squared_error, r2_score\n",
    "from ipywidgets import interact, FloatLogSlider\n",
    "\n",
    "# Generate data\n",
    "np.random.seed(42)\n",
    "n_samples = 200\n",
    "X = np.zeros((n_samples, 6))\n",
    "X[:, 0] = np.random.normal(0, 1, n_samples)  # X1 - Important feature\n",
    "X[:, 1] = np.random.normal(0, 1, n_samples)  # X2 -  Important feature\n",
    "X[:, 2] = X[:, 0] + np.random.normal(0, 0.1, n_samples)  # Correlated with X1\n",
    "X[:, 3] = X[:, 1] + np.random.normal(0, 0.1, n_samples)  # Correlated with X2\n",
    "X[:, 4] = np.random.normal(0, 0.1, n_samples)  # Noise\n",
    "X[:, 5] = np.random.normal(0, 0.1, n_samples)  # Noise\n",
    "\n",
    "y = 3 * X[:, 0] + 2 * X[:, 1] + 0.5 * X[:, 2] + np.random.normal(0, 0.1, n_samples) "
   ]
  },
  {
   "cell_type": "markdown",
   "id": "a7645844-02f7-497e-954d-9ecde3aa996e",
   "metadata": {},
   "source": [
    "## Regression\n",
    "\n",
    "Now that you have your data, do the following:\n",
    "\n",
    "1. Split your data into training and testing.\n",
    "2. Create and fit a ridge regression\n",
    "3. Calculate the MSE and  for your ridge regression.\n",
    "4. Create and fit a lasso model.\n",
    "5. Calculate the MSE and  for your lasso model.\n"
   ]
  },
  {
   "cell_type": "code",
   "execution_count": 10,
   "id": "13d2a57c-1896-49b2-a1fa-a02c43ebf148",
   "metadata": {
    "tags": []
   },
   "outputs": [],
   "source": [
    "# 1. Split data\n",
    "X_train, X_test, y_train, y_test = train_test_split(X, y, test_size = 0.3, random_state = 42)"
   ]
  },
  {
   "cell_type": "code",
   "execution_count": 11,
   "id": "9166d982-5155-45fd-bdf5-995d5f856e08",
   "metadata": {
    "tags": []
   },
   "outputs": [
    {
     "name": "stdout",
     "output_type": "stream",
     "text": [
      "Ridge Regression RMSE: 0.14410020171824975\n",
      "Ridge Regression R^2: 0.9984722762470865\n"
     ]
    }
   ],
   "source": [
    "# 2. Create and fit ridge regression\n",
    "ridge_model = Ridge() # default alpha = 10 when not specified\n",
    "ridge_model.fit(X_train, y_train)\n",
    "ridge_predictions = ridge_model.predict(X_test)\n",
    "\n",
    "# 3. Calculate RMSE and R^2 for Ridge regression\n",
    "ridge_rmse = np.sqrt(mean_squared_error(y_test, ridge_predictions))\n",
    "ridge_r2 = r2_score(y_test, ridge_predictions)\n",
    "print(\"Ridge Regression RMSE:\", ridge_rmse)\n",
    "print(\"Ridge Regression R^2:\", ridge_r2)"
   ]
  },
  {
   "cell_type": "code",
   "execution_count": 22,
   "id": "d0ab8c66-92f6-4682-a8bb-0d5b75ee54a8",
   "metadata": {
    "tags": []
   },
   "outputs": [
    {
     "name": "stdout",
     "output_type": "stream",
     "text": [
      "Ridge Regression RMSE: 1.2984978990079017\n",
      "Ridge Regression R^2: 0.8759496036905758\n"
     ]
    }
   ],
   "source": [
    "# 3. Create and fit Lasso regression model\n",
    "lasso_model = Lasso() # default alpha = 10 when not specified\n",
    "lasso_model.fit(X_train, y_train)\n",
    "lasso_predictions = lasso_model.predict(X_test)\n",
    "\n",
    "\n",
    "# Calculate RMSE and R^2  for Lasso regression\n",
    "lasso_rmse = np.sqrt(mean_squared_error(y_test, lasso_predictions))\n",
    "lasso_r2 = r2_score(y_test, lasso_predictions)\n",
    "\n",
    "print(\"Ridge Regression RMSE:\", lasso_rmse)\n",
    "print(\"Ridge Regression R^2:\", lasso_r2)"
   ]
  },
  {
   "cell_type": "code",
   "execution_count": 13,
   "id": "4553f607-5416-4092-9d10-eead98551c11",
   "metadata": {
    "tags": []
   },
   "outputs": [],
   "source": [
    "# Visualize alphas against RMSE for lasso and ridge\n",
    "\n"
   ]
  },
  {
   "cell_type": "code",
   "execution_count": null,
   "id": "e45429c1-5ff1-4938-a445-67666fb47fed",
   "metadata": {},
   "outputs": [],
   "source": [
    "# Create function for creating plot"
   ]
  },
  {
   "cell_type": "markdown",
   "id": "7df6bf06-0721-4dc2-a115-2fa47c88c987",
   "metadata": {},
   "source": [
    "## Coefficient Bar Plot"
   ]
  },
  {
   "cell_type": "code",
   "execution_count": 21,
   "id": "ddf1ce4c-79f5-41aa-b9a8-b9c65b831fb2",
   "metadata": {
    "tags": []
   },
   "outputs": [
    {
     "data": {
      "image/png": "[encoded data removed]",
      "text/plain": [
       "<Figure size 1500x500 with 3 Axes>"
      ]
     },
     "metadata": {},
     "output_type": "display_data"
    }
   ],
   "source": [
    "# Define alphas\n",
    "alphas = [0.1, 1, 10]\n",
    "\n",
    "# initialize empty list\n",
    "data = []\n",
    "\n",
    "# update alphas as we go\n",
    "for alpha in alphas:\n",
    "    ridge = Ridge(alpha = alpha).fit(X_train, y_train)\n",
    "    lasso = Lasso(alpha = alpha).fit(X_train, y_train)\n",
    "    data.append(pd.DataFrame({\n",
    "        'Ridge': ridge.coef_,\n",
    "        'Lasso': lasso.coef_\n",
    "    }, index = ['X1', 'X2', \"X1_corr\", 'X2_corr', 'Noise1', 'Noise2']))\n",
    "    \n",
    "fig, ax = plt.subplots(1,3, figsize = (15,5), sharey = True)\n",
    "\n",
    "# create plots\n",
    "for i,df in enumerate(data): # i tracks current plot location, df is one dataframe in data. use enumerate when looping thru miltiple things\n",
    "    df.plot.bar(ax = ax[i], width = 0.8)\n",
    "    ax[i].set_title(f'Alpha = {alphas[i]}')\n",
    "    ax[i].set_xticklabels(df.index, rotation = 45)\n",
    "    \n",
    "plt.show()"
   ]
  },
  {
   "cell_type": "code",
   "execution_count": null,
   "id": "16e8ddb8-234e-41c5-8e31-93ae46f7c426",
   "metadata": {},
   "outputs": [],
   "source": []
  }
 ],
 "metadata": {
  "kernelspec": {
   "display_name": "Anaconda 3 (EDS232)",
   "language": "python",
   "name": "ml-env"
  },
  "language_info": {
   "codemirror_mode": {
    "name": "ipython",
    "version": 3
   },
   "file_extension": ".py",
   "mimetype": "text/x-python",
   "name": "python",
   "nbconvert_exporter": "python",
   "pygments_lexer": "ipython3",
   "version": "3.10.16"
  }
 },
 "nbformat": 4,
 "nbformat_minor": 5
}
