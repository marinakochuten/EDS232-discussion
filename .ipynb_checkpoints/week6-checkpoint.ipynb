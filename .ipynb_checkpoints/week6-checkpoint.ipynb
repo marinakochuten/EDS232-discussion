{
 "cells": [
  {
   "cell_type": "markdown",
   "id": "de6ed0a8-beaf-4e27-90eb-f0e59c1bcfd5",
   "metadata": {},
   "source": [
    "## Introduction\n",
    "\n",
    "In this week’s discussion section, we will use a data with few NAs and intentionally add more NAs to it. We are going to run different imputation strategies on our newly “NA-ed” dataset, and see which performs best. Normally, you would never know how your imputation is actually performing, but this excercise will allow us to look under the hood a bit at how different imputation strategies perform differently. Once we find which imputation strategy works best, we will run a random forest on both the original data, as well as our newly imputed data. Which do you think will perform better??\n",
    "\n",
    "## Data\n",
    "\n",
    "This week, we will be working with mushroom data! This dataset from the UCI Machine Learning Repository includes descriptions of hypothetical samples corresponding to 23 species of gilled mushrooms in the Agaricus and Lepiota Family. Our target variable will be, poisonous, a categorical outcome variable classifying the mushroom as poisonous or not. We will include 22 features in our dataset that all relate to mushroom characteristics- such as cap-cut, cap-surface, bruises, and odor.\n",
    "\n",
    "\n",
    "## Excercise\n",
    "\n",
    "#### Import Libraries"
   ]
  },
  {
   "cell_type": "code",
   "execution_count": 1,
   "id": "cf65d50a-ad95-4f01-811a-beb828964c3e",
   "metadata": {
    "tags": []
   },
   "outputs": [],
   "source": [
    "import numpy as np\n",
    "import pandas as pd\n",
    "from sklearn.model_selection import train_test_split\n",
    "from sklearn.ensemble import RandomForestClassifier, BaggingClassifier\n",
    "from sklearn.tree import DecisionTreeClassifier\n",
    "from sklearn.preprocessing import StandardScaler\n",
    "from sklearn.preprocessing import LabelEncoder\n",
    "from sklearn.impute import SimpleImputer, KNNImputer\n",
    "from sklearn.metrics import mean_squared_error, accuracy_score, r2_score\n",
    "from ucimlrepo import fetch_ucirepo "
   ]
  },
  {
   "cell_type": "markdown",
   "id": "fdf767af-4173-46f5-84dc-3bb59ec46c96",
   "metadata": {},
   "source": [
    "#### Load Data"
   ]
  },
  {
   "cell_type": "code",
   "execution_count": 2,
   "id": "43166fbc-509c-4e66-8546-3809e7c2c3e4",
   "metadata": {
    "tags": []
   },
   "outputs": [
    {
     "data": {
      "text/html": [
       "<div>\n",
       "<style scoped>\n",
       "    .dataframe tbody tr th:only-of-type {\n",
       "        vertical-align: middle;\n",
       "    }\n",
       "\n",
       "    .dataframe tbody tr th {\n",
       "        vertical-align: top;\n",
       "    }\n",
       "\n",
       "    .dataframe thead th {\n",
       "        text-align: right;\n",
       "    }\n",
       "</style>\n",
       "<table border=\"1\" class=\"dataframe\">\n",
       "  <thead>\n",
       "    <tr style=\"text-align: right;\">\n",
       "      <th></th>\n",
       "      <th>cap-shape</th>\n",
       "      <th>cap-surface</th>\n",
       "      <th>cap-color</th>\n",
       "      <th>bruises</th>\n",
       "      <th>odor</th>\n",
       "      <th>gill-attachment</th>\n",
       "      <th>gill-spacing</th>\n",
       "      <th>gill-size</th>\n",
       "      <th>gill-color</th>\n",
       "      <th>stalk-shape</th>\n",
       "      <th>stalk-root</th>\n",
       "      <th>stalk-surface-above-ring</th>\n",
       "      <th>stalk-surface-below-ring</th>\n",
       "      <th>stalk-color-above-ring</th>\n",
       "      <th>stalk-color-below-ring</th>\n",
       "      <th>veil-type</th>\n",
       "      <th>veil-color</th>\n",
       "      <th>ring-number</th>\n",
       "      <th>ring-type</th>\n",
       "      <th>spore-print-color</th>\n",
       "      <th>population</th>\n",
       "      <th>habitat</th>\n",
       "    </tr>\n",
       "  </thead>\n",
       "  <tbody>\n",
       "    <tr>\n",
       "      <th>0</th>\n",
       "      <td>x</td>\n",
       "      <td>s</td>\n",
       "      <td>n</td>\n",
       "      <td>t</td>\n",
       "      <td>p</td>\n",
       "      <td>f</td>\n",
       "      <td>c</td>\n",
       "      <td>n</td>\n",
       "      <td>k</td>\n",
       "      <td>e</td>\n",
       "      <td>e</td>\n",
       "      <td>s</td>\n",
       "      <td>s</td>\n",
       "      <td>w</td>\n",
       "      <td>w</td>\n",
       "      <td>p</td>\n",
       "      <td>w</td>\n",
       "      <td>o</td>\n",
       "      <td>p</td>\n",
       "      <td>k</td>\n",
       "      <td>s</td>\n",
       "      <td>u</td>\n",
       "    </tr>\n",
       "    <tr>\n",
       "      <th>1</th>\n",
       "      <td>x</td>\n",
       "      <td>s</td>\n",
       "      <td>y</td>\n",
       "      <td>t</td>\n",
       "      <td>a</td>\n",
       "      <td>f</td>\n",
       "      <td>c</td>\n",
       "      <td>b</td>\n",
       "      <td>k</td>\n",
       "      <td>e</td>\n",
       "      <td>c</td>\n",
       "      <td>s</td>\n",
       "      <td>s</td>\n",
       "      <td>w</td>\n",
       "      <td>w</td>\n",
       "      <td>p</td>\n",
       "      <td>w</td>\n",
       "      <td>o</td>\n",
       "      <td>p</td>\n",
       "      <td>n</td>\n",
       "      <td>n</td>\n",
       "      <td>g</td>\n",
       "    </tr>\n",
       "    <tr>\n",
       "      <th>2</th>\n",
       "      <td>b</td>\n",
       "      <td>s</td>\n",
       "      <td>w</td>\n",
       "      <td>t</td>\n",
       "      <td>l</td>\n",
       "      <td>f</td>\n",
       "      <td>c</td>\n",
       "      <td>b</td>\n",
       "      <td>n</td>\n",
       "      <td>e</td>\n",
       "      <td>c</td>\n",
       "      <td>s</td>\n",
       "      <td>s</td>\n",
       "      <td>w</td>\n",
       "      <td>w</td>\n",
       "      <td>p</td>\n",
       "      <td>w</td>\n",
       "      <td>o</td>\n",
       "      <td>p</td>\n",
       "      <td>n</td>\n",
       "      <td>n</td>\n",
       "      <td>m</td>\n",
       "    </tr>\n",
       "    <tr>\n",
       "      <th>3</th>\n",
       "      <td>x</td>\n",
       "      <td>y</td>\n",
       "      <td>w</td>\n",
       "      <td>t</td>\n",
       "      <td>p</td>\n",
       "      <td>f</td>\n",
       "      <td>c</td>\n",
       "      <td>n</td>\n",
       "      <td>n</td>\n",
       "      <td>e</td>\n",
       "      <td>e</td>\n",
       "      <td>s</td>\n",
       "      <td>s</td>\n",
       "      <td>w</td>\n",
       "      <td>w</td>\n",
       "      <td>p</td>\n",
       "      <td>w</td>\n",
       "      <td>o</td>\n",
       "      <td>p</td>\n",
       "      <td>k</td>\n",
       "      <td>s</td>\n",
       "      <td>u</td>\n",
       "    </tr>\n",
       "    <tr>\n",
       "      <th>4</th>\n",
       "      <td>x</td>\n",
       "      <td>s</td>\n",
       "      <td>g</td>\n",
       "      <td>f</td>\n",
       "      <td>n</td>\n",
       "      <td>f</td>\n",
       "      <td>w</td>\n",
       "      <td>b</td>\n",
       "      <td>k</td>\n",
       "      <td>t</td>\n",
       "      <td>e</td>\n",
       "      <td>s</td>\n",
       "      <td>s</td>\n",
       "      <td>w</td>\n",
       "      <td>w</td>\n",
       "      <td>p</td>\n",
       "      <td>w</td>\n",
       "      <td>o</td>\n",
       "      <td>e</td>\n",
       "      <td>n</td>\n",
       "      <td>a</td>\n",
       "      <td>g</td>\n",
       "    </tr>\n",
       "  </tbody>\n",
       "</table>\n",
       "</div>"
      ],
      "text/plain": [
       "  cap-shape cap-surface cap-color bruises odor gill-attachment gill-spacing  \\\n",
       "0         x           s         n       t    p               f            c   \n",
       "1         x           s         y       t    a               f            c   \n",
       "2         b           s         w       t    l               f            c   \n",
       "3         x           y         w       t    p               f            c   \n",
       "4         x           s         g       f    n               f            w   \n",
       "\n",
       "  gill-size gill-color stalk-shape stalk-root stalk-surface-above-ring  \\\n",
       "0         n          k           e          e                        s   \n",
       "1         b          k           e          c                        s   \n",
       "2         b          n           e          c                        s   \n",
       "3         n          n           e          e                        s   \n",
       "4         b          k           t          e                        s   \n",
       "\n",
       "  stalk-surface-below-ring stalk-color-above-ring stalk-color-below-ring  \\\n",
       "0                        s                      w                      w   \n",
       "1                        s                      w                      w   \n",
       "2                        s                      w                      w   \n",
       "3                        s                      w                      w   \n",
       "4                        s                      w                      w   \n",
       "\n",
       "  veil-type veil-color ring-number ring-type spore-print-color population  \\\n",
       "0         p          w           o         p                 k          s   \n",
       "1         p          w           o         p                 n          n   \n",
       "2         p          w           o         p                 n          n   \n",
       "3         p          w           o         p                 k          s   \n",
       "4         p          w           o         e                 n          a   \n",
       "\n",
       "  habitat  \n",
       "0       u  \n",
       "1       g  \n",
       "2       m  \n",
       "3       u  \n",
       "4       g  "
      ]
     },
     "execution_count": 2,
     "metadata": {},
     "output_type": "execute_result"
    }
   ],
   "source": [
    "# Fetch dataset \n",
    "mushroom = fetch_ucirepo(id=73) \n",
    "  \n",
    "# Save data as X and y variables\n",
    "X = mushroom.data.features \n",
    "y = np.ravel(mushroom.data.targets)\n",
    "\n",
    "# Expand dataframe columns and look at view dataframe\n",
    "pd.set_option('display.max_columns', None)\n",
    "X.head()"
   ]
  },
  {
   "cell_type": "markdown",
   "id": "bbd48f90-64df-47bf-8849-c67f6a839732",
   "metadata": {},
   "source": [
    "#### Encoding data"
   ]
  },
  {
   "cell_type": "code",
   "execution_count": 3,
   "id": "a018b6e8-9d93-47bc-95ba-639da9cfe987",
   "metadata": {
    "tags": []
   },
   "outputs": [
    {
     "data": {
      "text/html": [
       "<div>\n",
       "<style scoped>\n",
       "    .dataframe tbody tr th:only-of-type {\n",
       "        vertical-align: middle;\n",
       "    }\n",
       "\n",
       "    .dataframe tbody tr th {\n",
       "        vertical-align: top;\n",
       "    }\n",
       "\n",
       "    .dataframe thead th {\n",
       "        text-align: right;\n",
       "    }\n",
       "</style>\n",
       "<table border=\"1\" class=\"dataframe\">\n",
       "  <thead>\n",
       "    <tr style=\"text-align: right;\">\n",
       "      <th></th>\n",
       "      <th>cap-shape</th>\n",
       "      <th>cap-surface</th>\n",
       "      <th>cap-color</th>\n",
       "      <th>bruises</th>\n",
       "      <th>odor</th>\n",
       "    </tr>\n",
       "  </thead>\n",
       "  <tbody>\n",
       "    <tr>\n",
       "      <th>0</th>\n",
       "      <td>5</td>\n",
       "      <td>2</td>\n",
       "      <td>4</td>\n",
       "      <td>1</td>\n",
       "      <td>6</td>\n",
       "    </tr>\n",
       "    <tr>\n",
       "      <th>1</th>\n",
       "      <td>5</td>\n",
       "      <td>2</td>\n",
       "      <td>9</td>\n",
       "      <td>1</td>\n",
       "      <td>0</td>\n",
       "    </tr>\n",
       "    <tr>\n",
       "      <th>2</th>\n",
       "      <td>0</td>\n",
       "      <td>2</td>\n",
       "      <td>8</td>\n",
       "      <td>1</td>\n",
       "      <td>3</td>\n",
       "    </tr>\n",
       "    <tr>\n",
       "      <th>3</th>\n",
       "      <td>5</td>\n",
       "      <td>3</td>\n",
       "      <td>8</td>\n",
       "      <td>1</td>\n",
       "      <td>6</td>\n",
       "    </tr>\n",
       "    <tr>\n",
       "      <th>4</th>\n",
       "      <td>5</td>\n",
       "      <td>2</td>\n",
       "      <td>3</td>\n",
       "      <td>0</td>\n",
       "      <td>5</td>\n",
       "    </tr>\n",
       "  </tbody>\n",
       "</table>\n",
       "</div>"
      ],
      "text/plain": [
       "  cap-shape cap-surface cap-color bruises odor\n",
       "0         5           2         4       1    6\n",
       "1         5           2         9       1    0\n",
       "2         0           2         8       1    3\n",
       "3         5           3         8       1    6\n",
       "4         5           2         3       0    5"
      ]
     },
     "execution_count": 3,
     "metadata": {},
     "output_type": "execute_result"
    }
   ],
   "source": [
    "# Factorize all columns\n",
    "for col in X.columns: \n",
    "    X.loc[:, col] = pd.factorize(X[col], sort = True)[0]\n",
    "\n",
    "# View first few rows of encoded data\n",
    "X.iloc[0:5, 0:5]"
   ]
  },
  {
   "cell_type": "markdown",
   "id": "7e1a82f5-d618-4429-b64d-226428caaa0d",
   "metadata": {},
   "source": [
    "#### Time to impute!\n",
    "\n",
    "Does our dataset have any missing values? Lets check!"
   ]
  },
  {
   "cell_type": "code",
   "execution_count": 4,
   "id": "2b20769e-c075-420d-a5cb-6398cd295885",
   "metadata": {
    "tags": []
   },
   "outputs": [
    {
     "data": {
      "text/plain": [
       "cap-shape                   0\n",
       "cap-surface                 0\n",
       "cap-color                   0\n",
       "bruises                     0\n",
       "odor                        0\n",
       "gill-attachment             0\n",
       "gill-spacing                0\n",
       "gill-size                   0\n",
       "gill-color                  0\n",
       "stalk-shape                 0\n",
       "stalk-root                  0\n",
       "stalk-surface-above-ring    0\n",
       "stalk-surface-below-ring    0\n",
       "stalk-color-above-ring      0\n",
       "stalk-color-below-ring      0\n",
       "veil-type                   0\n",
       "veil-color                  0\n",
       "ring-number                 0\n",
       "ring-type                   0\n",
       "spore-print-color           0\n",
       "population                  0\n",
       "habitat                     0\n",
       "dtype: int64"
      ]
     },
     "execution_count": 4,
     "metadata": {},
     "output_type": "execute_result"
    }
   ],
   "source": [
    "# Check for NAs\n",
    "X.isna().sum()"
   ]
  },
  {
   "cell_type": "markdown",
   "id": "81f50176-ab14-4102-8b03-a032591a2174",
   "metadata": {},
   "source": [
    "We are going to randomly assign observations in our dataset to be missing, and then see which imputation methods perform best by comparing their results to our actual dataset. Let’s randomly assign NA observations throughout our dataset. We will create a copy of our dataframe and call it X_Na."
   ]
  },
  {
   "cell_type": "code",
   "execution_count": 5,
   "id": "691fae18-e45c-4201-aec3-f5ce5548c4e3",
   "metadata": {
    "tags": []
   },
   "outputs": [
    {
     "data": {
      "text/plain": [
       "cap-shape                   812\n",
       "cap-surface                 812\n",
       "cap-color                   812\n",
       "bruises                     812\n",
       "odor                        812\n",
       "gill-attachment             812\n",
       "gill-spacing                812\n",
       "gill-size                   812\n",
       "gill-color                  812\n",
       "stalk-shape                 812\n",
       "stalk-root                  812\n",
       "stalk-surface-above-ring    812\n",
       "stalk-surface-below-ring    812\n",
       "stalk-color-above-ring      812\n",
       "stalk-color-below-ring      812\n",
       "veil-type                   812\n",
       "veil-color                  812\n",
       "ring-number                 812\n",
       "ring-type                   812\n",
       "spore-print-color           812\n",
       "population                  812\n",
       "habitat                     812\n",
       "dtype: int64"
      ]
     },
     "execution_count": 5,
     "metadata": {},
     "output_type": "execute_result"
    }
   ],
   "source": [
    "# Create copy of X variables\n",
    "X_Na = X.copy()\n",
    "\n",
    "# Assign 10% of new dataframe with NA values\n",
    "for col in X_Na.columns: \n",
    "    X_Na.loc[X_Na.sample(frac = 0.1).index, col] = np.nan\n",
    "    \n",
    "# Check to make sure there are missing values\n",
    "X_Na.isna().sum()"
   ]
  },
  {
   "cell_type": "markdown",
   "id": "c57597ae-e980-4d1e-b41d-c3ad7dd83bef",
   "metadata": {},
   "source": [
    "Now that we have our dataset with missing values, let’s impute!\n",
    "\n",
    "#### Imputation method #1: Filling NA values with the mode"
   ]
  },
  {
   "cell_type": "code",
   "execution_count": 6,
   "id": "e412754b-c366-4d60-847c-4319c83bfda7",
   "metadata": {
    "tags": []
   },
   "outputs": [
    {
     "data": {
      "text/plain": [
       "cap-shape                   0\n",
       "cap-surface                 0\n",
       "cap-color                   0\n",
       "bruises                     0\n",
       "odor                        0\n",
       "gill-attachment             0\n",
       "gill-spacing                0\n",
       "gill-size                   0\n",
       "gill-color                  0\n",
       "stalk-shape                 0\n",
       "stalk-root                  0\n",
       "stalk-surface-above-ring    0\n",
       "stalk-surface-below-ring    0\n",
       "stalk-color-above-ring      0\n",
       "stalk-color-below-ring      0\n",
       "veil-type                   0\n",
       "veil-color                  0\n",
       "ring-number                 0\n",
       "ring-type                   0\n",
       "spore-print-color           0\n",
       "population                  0\n",
       "habitat                     0\n",
       "dtype: int64"
      ]
     },
     "execution_count": 6,
     "metadata": {},
     "output_type": "execute_result"
    }
   ],
   "source": [
    "# Impute with mode\n",
    "X_mode_impute = X_Na.fillna(X_Na.mode().iloc[0])\n",
    "\n",
    "# Check to make sure there are no NAs\n",
    "X_mode_impute.isna().sum()"
   ]
  },
  {
   "cell_type": "markdown",
   "id": "89371a74-ea4f-402e-81fc-5b8aad723baf",
   "metadata": {},
   "source": [
    "#### Imputation method #2: Filling NA values with the median using `SimpleImputer`"
   ]
  },
  {
   "cell_type": "code",
   "execution_count": 7,
   "id": "c63339ef-698d-4a4d-af11-8df97d5d978f",
   "metadata": {
    "tags": []
   },
   "outputs": [
    {
     "data": {
      "text/plain": [
       "cap-shape                   0\n",
       "cap-surface                 0\n",
       "cap-color                   0\n",
       "bruises                     0\n",
       "odor                        0\n",
       "gill-attachment             0\n",
       "gill-spacing                0\n",
       "gill-size                   0\n",
       "gill-color                  0\n",
       "stalk-shape                 0\n",
       "stalk-root                  0\n",
       "stalk-surface-above-ring    0\n",
       "stalk-surface-below-ring    0\n",
       "stalk-color-above-ring      0\n",
       "stalk-color-below-ring      0\n",
       "veil-type                   0\n",
       "veil-color                  0\n",
       "ring-number                 0\n",
       "ring-type                   0\n",
       "spore-print-color           0\n",
       "population                  0\n",
       "habitat                     0\n",
       "dtype: int64"
      ]
     },
     "execution_count": 7,
     "metadata": {},
     "output_type": "execute_result"
    }
   ],
   "source": [
    "# Impute with median (using SimpleImputer) \n",
    "median_impute = SimpleImputer(strategy = 'median')\n",
    "X_median_impute = median_impute.fit_transform(X_Na)\n",
    "X_median_impute = pd.DataFrame(X_median_impute, columns = X.columns)\n",
    "\n",
    "# Check to make sure there are no NAs\n",
    "X_median_impute.isna().sum()"
   ]
  },
  {
   "cell_type": "markdown",
   "id": "ce6a290e-00df-45b3-978e-216f4c1422d3",
   "metadata": {},
   "source": [
    "#### Imputation method #3: Filling NA values with KNN Imputer"
   ]
  },
  {
   "cell_type": "code",
   "execution_count": 8,
   "id": "e9bd79de-3d43-484d-8f6d-a0a25df6ccab",
   "metadata": {
    "tags": []
   },
   "outputs": [
    {
     "data": {
      "text/plain": [
       "cap-shape                   0\n",
       "cap-surface                 0\n",
       "cap-color                   0\n",
       "bruises                     0\n",
       "odor                        0\n",
       "gill-attachment             0\n",
       "gill-spacing                0\n",
       "gill-size                   0\n",
       "gill-color                  0\n",
       "stalk-shape                 0\n",
       "stalk-root                  0\n",
       "stalk-surface-above-ring    0\n",
       "stalk-surface-below-ring    0\n",
       "stalk-color-above-ring      0\n",
       "stalk-color-below-ring      0\n",
       "veil-type                   0\n",
       "veil-color                  0\n",
       "ring-number                 0\n",
       "ring-type                   0\n",
       "spore-print-color           0\n",
       "population                  0\n",
       "habitat                     0\n",
       "dtype: int64"
      ]
     },
     "execution_count": 8,
     "metadata": {},
     "output_type": "execute_result"
    }
   ],
   "source": [
    "# Impute with KNN Imputer\n",
    "knn_impute = KNNImputer(n_neighbors = 20)\n",
    "X_knn_impute = knn_impute.fit_transform(X_Na)\n",
    "X_knn_impute = pd.DataFrame(X_knn_impute, columns = X_Na.columns)\n",
    "\n",
    "# Check to make sure there are no NAs\n",
    "X_knn_impute.isna().sum()"
   ]
  },
  {
   "cell_type": "markdown",
   "id": "4229494f-da34-491e-8e3f-0280961e37e4",
   "metadata": {},
   "source": [
    "Now that we have four different dataframes with four different imputation methods, lets see which best captured our real data! We can do this using the mean squared error!"
   ]
  },
  {
   "cell_type": "code",
   "execution_count": 9,
   "id": "3628fc19-9027-4562-8796-71f1ffc19d08",
   "metadata": {
    "tags": []
   },
   "outputs": [
    {
     "name": "stdout",
     "output_type": "stream",
     "text": [
      "Mode imputation performance: 0.4538908285215523\n",
      "Median Imputation performance: 0.25511951121256876\n",
      "KNN Imputation performance: 0.10040154592453336\n"
     ]
    }
   ],
   "source": [
    "# Calculate imputation accuracy using mean squared error\n",
    "mse_mode = mean_squared_error(X, X_mode_impute)\n",
    "mse_median = mean_squared_error(X, X_median_impute)\n",
    "mse_knn = mean_squared_error(X, X_knn_impute)\n",
    "\n",
    "\n",
    "# Report results\n",
    "print(f\"Mode imputation performance: {mse_mode}\")\n",
    "print(f\"Median Imputation performance: {mse_median}\")\n",
    "print(f\"KNN Imputation performance: {mse_knn}\")"
   ]
  },
  {
   "cell_type": "code",
   "execution_count": 10,
   "id": "b78f03ba-29bd-438e-b8bf-cfe029031aad",
   "metadata": {
    "tags": []
   },
   "outputs": [
    {
     "name": "stdout",
     "output_type": "stream",
     "text": [
      "Mode imputation performance: 0.8493855510198789\n",
      "Median Imputation performance: 0.8827035640892625\n",
      "KNN Imputation performance: 0.9679906578706826\n"
     ]
    }
   ],
   "source": [
    "# Calculate imputation accuracy using R2\n",
    "r2_mode = r2_score(X, X_mode_impute)\n",
    "r2_median = r2_score(X, X_median_impute)\n",
    "r2_knn = r2_score(X, X_knn_impute)\n",
    "\n",
    "\n",
    "# Report results\n",
    "print(f\"Mode imputation performance: {r2_mode}\")\n",
    "print(f\"Median Imputation performance: {r2_median}\")\n",
    "print(f\"KNN Imputation performance: {r2_knn}\")"
   ]
  },
  {
   "cell_type": "markdown",
   "id": "242498a3-ed62-4aee-967d-21f7dbc1acce",
   "metadata": {},
   "source": [
    "It looks like our KNN Imputation was the most successfull in imputing NAs! Let’s run a random forest with our actual data, and our KNN imputed data to see how/if they differ!\n",
    "\n",
    "#### Random Forest Classifier with original data"
   ]
  },
  {
   "cell_type": "code",
   "execution_count": 11,
   "id": "588c4fc4-e24b-4122-aa02-4f04c285c48a",
   "metadata": {
    "tags": []
   },
   "outputs": [
    {
     "name": "stdout",
     "output_type": "stream",
     "text": [
      "Number of features: 1; Random Forest Accuracy: 0.916735028712059\n",
      "Number of features: 4; Random Forest Accuracy: 0.9848236259228876\n",
      "Number of features: 7; Random Forest Accuracy: 0.9868744872846595\n",
      "Number of features: 10; Random Forest Accuracy: 0.9835931091058244\n",
      "Number of features: 13; Random Forest Accuracy: 0.9823625922887613\n",
      "Number of features: 16; Random Forest Accuracy: 0.9860541427399507\n",
      "Number of features: 19; Random Forest Accuracy: 0.9819524200164069\n",
      "Number of features: 22; Random Forest Accuracy: 0.9577522559474979\n"
     ]
    }
   ],
   "source": [
    "# Split actual data\n",
    "X_train, X_test, y_train, y_test = train_test_split(X, y, test_size = 0.3, random_state = 42)\n",
    "\n",
    "# Number of features to include for tuning\n",
    "num_features = [1,4,7,10,13,16,19,22]\n",
    "accuracy = []\n",
    "\n",
    "for feature in num_features: \n",
    "    rf_classifier = RandomForestClassifier(\n",
    "        n_estimators = 50, \n",
    "        max_depth = 3, \n",
    "        random_state = 42, \n",
    "        max_features = feature\n",
    "    )\n",
    "    \n",
    "    # Train model\n",
    "    rf_classifier.fit(X_train, y_train)\n",
    "    \n",
    "    # Predict and evaluate \n",
    "    y_pred = rf_classifier.predict(X_test)\n",
    "    rf_accuracy = accuracy_score(y_test, y_pred)\n",
    "    accuracy.append(rf_accuracy)\n",
    "    print(f\"Number of features: {feature}; Random Forest Accuracy: {rf_accuracy}\")"
   ]
  },
  {
   "cell_type": "markdown",
   "id": "dffa828b-a58e-430d-97b7-3d09c75ff09c",
   "metadata": {},
   "source": [
    "#### Random Forest Classifier with imputed data:"
   ]
  },
  {
   "cell_type": "code",
   "execution_count": 12,
   "id": "8b658f5f-628e-4814-9741-53b55d623657",
   "metadata": {
    "tags": []
   },
   "outputs": [
    {
     "name": "stdout",
     "output_type": "stream",
     "text": [
      "Number of features: 1; Random Forest Accuracy: 0.916735028712059\n",
      "Number of features: 4; Random Forest Accuracy: 0.9799015586546349\n",
      "Number of features: 7; Random Forest Accuracy: 0.9860541427399507\n",
      "Number of features: 10; Random Forest Accuracy: 0.9844134536505332\n",
      "Number of features: 13; Random Forest Accuracy: 0.9840032813781788\n",
      "Number of features: 16; Random Forest Accuracy: 0.977850697292863\n",
      "Number of features: 19; Random Forest Accuracy: 0.9639048400328137\n",
      "Number of features: 22; Random Forest Accuracy: 0.9552912223133716\n"
     ]
    }
   ],
   "source": [
    "# Split imputed data \n",
    "X_train, X_test, y_train, y_test = train_test_split(X_knn_impute, y, test_size = 0.3, random_state = 42)\n",
    "\n",
    "# Number of features to include for tuning\n",
    "# Number of features to include for tuning\n",
    "num_features = [1,4,7,10,13,16,19,22]\n",
    "accuracy = []\n",
    "\n",
    "for feature in num_features: \n",
    "    rf_classifier = RandomForestClassifier(\n",
    "        n_estimators = 50, \n",
    "        max_depth = 3, \n",
    "        random_state = 42, \n",
    "        max_features = feature\n",
    "    )\n",
    "    \n",
    "    # Train model\n",
    "    rf_classifier.fit(X_train, y_train)\n",
    "    \n",
    "    # Predict and evaluate \n",
    "    y_pred = rf_classifier.predict(X_test)\n",
    "    rf_accuracy = accuracy_score(y_test, y_pred)\n",
    "    accuracy.append(rf_accuracy)\n",
    "    print(f\"Number of features: {feature}; Random Forest Accuracy: {rf_accuracy}\")"
   ]
  },
  {
   "cell_type": "code",
   "execution_count": null,
   "id": "3d7c606a-a128-4511-96ec-b3069617811d",
   "metadata": {},
   "outputs": [],
   "source": []
  }
 ],
 "metadata": {
  "kernelspec": {
   "display_name": "Anaconda 3 (EDS232)",
   "language": "python",
   "name": "ml-env"
  },
  "language_info": {
   "codemirror_mode": {
    "name": "ipython",
    "version": 3
   },
   "file_extension": ".py",
   "mimetype": "text/x-python",
   "name": "python",
   "nbconvert_exporter": "python",
   "pygments_lexer": "ipython3",
   "version": "3.10.16"
  }
 },
 "nbformat": 4,
 "nbformat_minor": 5
}
