{
 "cells": [
  {
   "cell_type": "markdown",
   "id": "3714ef7f-fc62-43c1-8085-96a9cdb2f607",
   "metadata": {},
   "source": [
    "## Introduction\n",
    "\n",
    "In this week’s discussion section, we will create some plots to better undertsand how much class imbalances can effect our classification model. Rather than creating a widget that updates the parameters of the model ( like we have done in the past couple weeks), this week we will create a widget that updates our data - specifically updating the class imbalance within our data. To do so, we will use synthesized data that is made with the intention of better understanding how relationships within data for logistic regression work. It is important to note that your results with real data may look very different - unlike this notebook, the real world data you will be working with was not made to better understand logistic regression.\n",
    "\n",
    "## Data\n",
    "\n",
    "While our data is synthetic, we will still have it hold an environmnetal value. Our data is going to represent the prescence/absence of the invasive European green crab that is often found in California coastal waters. These crabs prefer warmer water temperatures between 64° F and 79° F and salinity levels between 26 and 39 ppt. The features for our data will be water temperature and salinity, and our target variable will be the presence (1) or absence (0) of green crabs at our different sampling sites. Import the libraries below and copy the function to generate our data below to get started."
   ]
  },
  {
   "cell_type": "code",
   "execution_count": 1,
   "id": "3563457e-4654-40b9-a46b-587cd1716d7c",
   "metadata": {
    "tags": []
   },
   "outputs": [],
   "source": [
    "# Import necessary libraries\n",
    "import numpy as np\n",
    "import pandas as pd\n",
    "from sklearn.model_selection import train_test_split\n",
    "from sklearn.linear_model import LogisticRegression\n",
    "from sklearn.metrics import roc_curve, auc, confusion_matrix\n",
    "import matplotlib.pyplot as plt\n",
    "from ipywidgets import interact, FloatSlider\n",
    "import seaborn as sns"
   ]
  },
  {
   "cell_type": "markdown",
   "id": "4be38eba-5889-448b-9121-5e460bcbe2f0",
   "metadata": {},
   "source": [
    "## Time for some FUN(ctions)!\n",
    "\n",
    "We will create six different functions for the different parts of our interactive output: one to generate the data, a second to create a barplot to represent the class imbalance, a third to create a confusion matrix, another to create an ROC curve, a function to wrap everything together, and a final function to add interactivity. Let’s get to it!\n",
    "\n",
    "### Function 1\n",
    "\n",
    "Create a function that **generates the species data**. The parameters should be the sample size and the ratio of present green crabs."
   ]
  },
  {
   "cell_type": "code",
   "execution_count": 2,
   "id": "0330a4c6-b21f-453b-b8f7-8b31a8f9aa94",
   "metadata": {
    "tags": []
   },
   "outputs": [],
   "source": [
    "def generate_species_data(n_samples=1000, presence_ratio=0.3):\n",
    "    # Calculate number of samples for each class\n",
    "    n_present = int(n_samples * presence_ratio)\n",
    "    n_absent = n_samples - n_present\n",
    "    \n",
    "    # Generate features for presence sites \n",
    "    # Green crabs prefer warmer temps (between 64 and 79 degrees Fahrenheit) and  salinity between 26 and 39 ppt\n",
    "    temp_present = np.random.normal(loc=71, scale= 4, size=n_present)\n",
    "    salinity_present = np.random.normal(loc=32, scale=3, size=n_present)\n",
    "    X_present = np.column_stack([temp_present, salinity_present])\n",
    "    y_present = np.ones(n_present)\n",
    "    \n",
    "    # Generate features for absence sites\n",
    "    # Sites with warmer temps or lower salinity\n",
    "    temp_absent = np.random.normal(loc=26, scale=3, size=n_absent)\n",
    "    salinity_absent = np.random.normal(loc=28, scale=2, size=n_absent)\n",
    "    X_absent = np.column_stack([temp_absent, salinity_absent])\n",
    "    y_absent = np.zeros(n_absent)\n",
    "    \n",
    "    # Combine and shuffle the data\n",
    "    X = np.concatenate([X_present, X_absent])\n",
    "    y = np.concatenate([y_present, y_absent])\n",
    "    \n",
    "    # Shuffle the data\n",
    "    shuffle_idx = np.random.permutation(n_samples)\n",
    "    X = X[shuffle_idx]\n",
    "    y = y[shuffle_idx]\n",
    "    \n",
    "    return X, y"
   ]
  },
  {
   "cell_type": "markdown",
   "id": "0f7492ff-3413-4435-b00f-e22388f1539d",
   "metadata": {},
   "source": [
    "## Function 2\n",
    "\n",
    "Create a function that creats a bar plot of species presense distribution based on the ratio selected by the user.\n"
   ]
  },
  {
   "cell_type": "code",
   "execution_count": 10,
   "id": "4cf81501-d80c-4c8c-a60b-a932144b2256",
   "metadata": {
    "tags": []
   },
   "outputs": [],
   "source": [
    "def plot_class_distribution(y):\n",
    "    plt.figure(figsize = (8,4))\n",
    "    \n",
    "    # Count the values in each category\n",
    "    class_counts = pd.Series(y).value_counts().sort_index()\n",
    "    \n",
    "    # Create the bar plot of Absent and Present species\n",
    "    sns.barplot(x = ['Absent', 'Present'], y = class_counts, color = '#005477')\n",
    "    plt.title('Distribution of Species Presence/Absence')\n",
    "    plt.ylabel('Number of Sampling sites')\n",
    "    \n",
    "    # Add percent over each bar\n",
    "    total = len(y)\n",
    "    for i, count in enumerate(class_counts):\n",
    "        percentage = count / total * 100\n",
    "        plt.text(i, count, f'{percentage:.1f}%', ha = 'center', va = 'bottom')\n",
    "    \n",
    "    plt.show()"
   ]
  },
  {
   "cell_type": "markdown",
   "id": "8946d3b9-f4f5-4e16-b167-a45c20949ddb",
   "metadata": {},
   "source": [
    "## Function 3\n",
    "\n",
    "Create a function that plots a confusion matrix of the predicted y values and true y values."
   ]
  },
  {
   "cell_type": "code",
   "execution_count": 12,
   "id": "bc17a5ee-d5d1-44fb-94e0-4ae9757e63de",
   "metadata": {
    "tags": []
   },
   "outputs": [],
   "source": [
    "def plot_confusion_matrix(y_true, y_pred):\n",
    "    \n",
    "    # Create confusion matrix\n",
    "    cm = confusion_matrix(y_true, y_pred)\n",
    "    \n",
    "    # Create confusion matrix plot\n",
    "    plt.figure(figsize = (8,6))\n",
    "    sns.heatmap(cm, fmt = 'd', cmap = 'GnBu', xticklabels = ['Absent', 'Present'],\n",
    "               yticklabels = ['Absent', 'Present'], annot = True)\n",
    "    plt.title('Confusion Matrix')\n",
    "    plt.ylabel('True Label')\n",
    "    plt.xlabel('Predicted Label')\n",
    "    plt.show()\n",
    "    \n",
    "    # Calculate and display metrics\n",
    "    TP = cm[1,1]\n",
    "    TN = cm[0,0]\n",
    "    FP = cm[0,1]\n",
    "    FN = cm[1,0]\n",
    "    \n",
    "    print(f\"True positives (correctly predicted presence): {TP}\")\n",
    "    print(f\"True negatives (correctly predicted absence): {TN}\")\n",
    "    print(f\"False positives (incorrectly predicted presence): {FP}\")\n",
    "    print(f\"False negatives (incorrectly predicted absence): {FN}\")\n",
    "    \n",
    "    \n",
    "    # Calculate accuracy + various metric\n",
    "    accuracy = (TP + TN) / (TP + TN + FP + FN)\n",
    "    sensitivity = TP / (TP + FN)\n",
    "    specificity = TN / (TN + FP)\n",
    "    \n",
    "    print(f\"\\nModel Performance Metrics:\")\n",
    "    print(f\"Accuracy: {accuracy:.3f}\")\n",
    "    print(f\"Sensitivity ( True Positive Rate): {sensitivity:.3f}\")\n",
    "    print(f\"Specificity ( True negative rate): {specificity:.3f}\")"
   ]
  },
  {
   "cell_type": "markdown",
   "id": "ddd3b57e-6eb1-413b-9018-7f58403fbfe6",
   "metadata": {},
   "source": [
    "## Function 4\n",
    "\n",
    "Create a function that plots an ROC curve using the predicted y class probabilities and true y values."
   ]
  },
  {
   "cell_type": "code",
   "execution_count": 5,
   "id": "d828fb38-a317-4390-9abd-d3e0714106dc",
   "metadata": {
    "tags": []
   },
   "outputs": [],
   "source": [
    "def plot_roc_curve(y_test, y_pred_prob):\n",
    "    \n",
    "    fpr, tpr, _ = roc_curve(y_test, y_pred_prob) # the _ means, don't return the thresholds! i dont need that\n",
    "    \n",
    "    roc_auc = auc(fpr, tpr)\n",
    "    \n",
    "    plt.figure(figsize = (8,6))\n",
    "    plt.plot(fpr, tpr, color = 'darkorange', lw = 2, label = f'ROC Curve (AUC = {roc_auc:.2f})')\n",
    "    plt.plot([0,1], [0,1], color = 'navy', lw = 2, linestyle = '--', label = \"Random Classifier (AUC = 0.5)\") # plot diagonal line\n",
    "    plt.xlabel('False positive rate')\n",
    "    plt.ylabel('True positive rate')\n",
    "    plt.title('ROC curve: Species Presence Prediction')\n",
    "    plt.legend()\n",
    "    plt.grid(True)\n",
    "    plt.show()"
   ]
  },
  {
   "cell_type": "markdown",
   "id": "90951cac-0161-4e2d-8dad-1f6fbd4cc6dd",
   "metadata": {},
   "source": [
    "## Function 5\n",
    "\n",
    "Create function that runs a logistic regression and outputs the three plots you created above."
   ]
  },
  {
   "cell_type": "code",
   "execution_count": 6,
   "id": "ed3dbfbf-d7db-4b28-bcb3-cc70000ad8d5",
   "metadata": {
    "tags": []
   },
   "outputs": [],
   "source": [
    "def interactive_logistic_regression(presence_ratio = 0.3):\n",
    "    \n",
    "    # Generate data based on class imbalance from user\n",
    "    X,y = generate_species_data(presence_ratio = presence_ratio)\n",
    "    \n",
    "    # Plot class distribution\n",
    "    print(\"\\nClass Distribution\")\n",
    "    plot_class_distribution(y)\n",
    "    \n",
    "    # Split data\n",
    "    X_train, X_test, y_train, y_test = train_test_split(X,y, test_size = 0.3, random_state = 42)\n",
    "    \n",
    "    # Train model\n",
    "    model = LogisticRegression()\n",
    "    model.fit(X_train, y_train)\n",
    "    \n",
    "    # Make predictions\n",
    "    y_pred = model.predict(X_test)\n",
    "    y_pred_prob = model.predict_proba(X_test)[:,1]\n",
    "    \n",
    "    # Plot confusion matrix\n",
    "    print(\"\\nConfusion matrix:\")\n",
    "    plot_confusion_matrix(y_test, y_pred)\n",
    "    \n",
    "    # Plot ROC curve\n",
    "    print(\"\\nROC curve:\")\n",
    "    plot_roc_curve(y_test, y_pred_prob)"
   ]
  },
  {
   "cell_type": "markdown",
   "id": "f9d658f5-e282-4d5f-9d13-deb6959c971e",
   "metadata": {},
   "source": [
    "## Function 6\n",
    "\n",
    "Create a function that **adds interactivity** to function 5."
   ]
  },
  {
   "cell_type": "code",
   "execution_count": 13,
   "id": "88749633-74f0-4d04-a2de-c1c02d861bc6",
   "metadata": {
    "tags": []
   },
   "outputs": [
    {
     "data": {
      "application/vnd.jupyter.widget-view+json": {
       "model_id": "28cdefbc45dd494b9313bcd1f23f6c72",
       "version_major": 2,
       "version_minor": 0
      },
      "text/plain": [
       "interactive(children=(FloatSlider(value=0.3, description='% Present', max=0.9, min=0.1), Output()), _dom_class…"
      ]
     },
     "metadata": {},
     "output_type": "display_data"
    }
   ],
   "source": [
    "# Create interactive widget\n",
    "\n",
    "def generate_log_regression():\n",
    "    interact(interactive_logistic_regression,\n",
    "            presence_ratio = FloatSlider(min = .1, max = .9, step = .1, value = 0.3,\n",
    "                                        description = \"% Present\")\n",
    "            )\n",
    "\n",
    "generate_log_regression()"
   ]
  },
  {
   "cell_type": "code",
   "execution_count": null,
   "id": "ce915129-ec13-45d1-8cf0-513954095a93",
   "metadata": {},
   "outputs": [],
   "source": []
  }
 ],
 "metadata": {
  "kernelspec": {
   "display_name": "Anaconda 3 (EDS232)",
   "language": "python",
   "name": "ml-env"
  },
  "language_info": {
   "codemirror_mode": {
    "name": "ipython",
    "version": 3
   },
   "file_extension": ".py",
   "mimetype": "text/x-python",
   "name": "python",
   "nbconvert_exporter": "python",
   "pygments_lexer": "ipython3",
   "version": "3.10.16"
  }
 },
 "nbformat": 4,
 "nbformat_minor": 5
}
