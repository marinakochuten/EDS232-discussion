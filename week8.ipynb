{
 "cells": [
  {
   "cell_type": "markdown",
   "id": "dbac48b4-59f9-4e7d-8f25-95c91bd3c860",
   "metadata": {},
   "source": [
    "Introduction\n",
    "In this week’s discussion section, we will use a dataset containing images of different plant diseases, and classify these images into different clusters. We will create a widget to see how our model classified a few of the images, as well as see how our classification changes when we change the value of K.\n",
    "\n",
    "Data\n",
    "The dataset this week is zipped file contain many different folders containg images of plants. Each folder represents a different plant disease, and all images in that folder house pictures representing the corresponding disease. The dataset can be found here.\n",
    "\n",
    "Excercise\n",
    "Load in libraries and data"
   ]
  },
  {
   "cell_type": "code",
   "execution_count": 1,
   "id": "a790c9db-5faa-4f91-926f-f769ef551d45",
   "metadata": {
    "tags": []
   },
   "outputs": [],
   "source": [
    "import numpy as np\n",
    "import os\n",
    "from PIL import Image\n",
    "import matplotlib.pyplot as plt\n",
    "from sklearn.decomposition import PCA\n",
    "from sklearn.cluster import KMeans\n",
    "from matplotlib.patches import Patch\n",
    "from ipywidgets import IntSlider, interact, Layout\n",
    "from IPython.display import display\n",
    "import zipfile"
   ]
  },
  {
   "cell_type": "code",
   "execution_count": 3,
   "id": "65b574ff-cb0c-4cee-b2c3-adbc4df9c002",
   "metadata": {
    "tags": []
   },
   "outputs": [
    {
     "ename": "FileNotFoundError",
     "evalue": "[Errno 2] No such file or directory: '../data/Plant_leave_diseases_dataset_with_augmentation.zip'",
     "output_type": "error",
     "traceback": [
      "\u001b[0;31m---------------------------------------------------------------------------\u001b[0m",
      "\u001b[0;31mFileNotFoundError\u001b[0m                         Traceback (most recent call last)",
      "Cell \u001b[0;32mIn[3], line 11\u001b[0m\n\u001b[1;32m      9\u001b[0m         zip_ref\u001b[38;5;241m.\u001b[39mextractall(extract_to)\n\u001b[1;32m     10\u001b[0m         \u001b[38;5;28mprint\u001b[39m(\u001b[38;5;124mf\u001b[39m\u001b[38;5;124m\"\u001b[39m\u001b[38;5;124mFiles extracted to \u001b[39m\u001b[38;5;132;01m{\u001b[39;00mextract_to\u001b[38;5;132;01m}\u001b[39;00m\u001b[38;5;124m\"\u001b[39m)\n\u001b[0;32m---> 11\u001b[0m \u001b[43munzip\u001b[49m\u001b[43m(\u001b[49m\u001b[38;5;124;43m\"\u001b[39;49m\u001b[38;5;124;43m../data/Plant_leave_diseases_dataset_with_augmentation.zip\u001b[39;49m\u001b[38;5;124;43m\"\u001b[39;49m\u001b[43m,\u001b[49m\u001b[43m \u001b[49m\u001b[38;5;124;43m\"\u001b[39;49m\u001b[38;5;124;43m../data/plant_disease\u001b[39;49m\u001b[38;5;124;43m\"\u001b[39;49m\u001b[43m)\u001b[49m\n",
      "Cell \u001b[0;32mIn[3], line 7\u001b[0m, in \u001b[0;36munzip\u001b[0;34m(zip_path, extract_to)\u001b[0m\n\u001b[1;32m      4\u001b[0m     os\u001b[38;5;241m.\u001b[39mmakedirs(extract_to)\n\u001b[1;32m      6\u001b[0m \u001b[38;5;66;03m# Open the zip file\u001b[39;00m\n\u001b[0;32m----> 7\u001b[0m \u001b[38;5;28;01mwith\u001b[39;00m \u001b[43mzipfile\u001b[49m\u001b[38;5;241;43m.\u001b[39;49m\u001b[43mZipFile\u001b[49m\u001b[43m(\u001b[49m\u001b[43mzip_path\u001b[49m\u001b[43m,\u001b[49m\u001b[43m \u001b[49m\u001b[38;5;124;43m'\u001b[39;49m\u001b[38;5;124;43mr\u001b[39;49m\u001b[38;5;124;43m'\u001b[39;49m\u001b[43m)\u001b[49m \u001b[38;5;28;01mas\u001b[39;00m zip_ref:\n\u001b[1;32m      8\u001b[0m     \u001b[38;5;66;03m# Extract all the contents into the directory\u001b[39;00m\n\u001b[1;32m      9\u001b[0m     zip_ref\u001b[38;5;241m.\u001b[39mextractall(extract_to)\n\u001b[1;32m     10\u001b[0m     \u001b[38;5;28mprint\u001b[39m(\u001b[38;5;124mf\u001b[39m\u001b[38;5;124m\"\u001b[39m\u001b[38;5;124mFiles extracted to \u001b[39m\u001b[38;5;132;01m{\u001b[39;00mextract_to\u001b[38;5;132;01m}\u001b[39;00m\u001b[38;5;124m\"\u001b[39m)\n",
      "File \u001b[0;32m/opt/anaconda3/envs/ml-env/lib/python3.10/zipfile.py:1254\u001b[0m, in \u001b[0;36mZipFile.__init__\u001b[0;34m(self, file, mode, compression, allowZip64, compresslevel, strict_timestamps)\u001b[0m\n\u001b[1;32m   1252\u001b[0m \u001b[38;5;28;01mwhile\u001b[39;00m \u001b[38;5;28;01mTrue\u001b[39;00m:\n\u001b[1;32m   1253\u001b[0m     \u001b[38;5;28;01mtry\u001b[39;00m:\n\u001b[0;32m-> 1254\u001b[0m         \u001b[38;5;28mself\u001b[39m\u001b[38;5;241m.\u001b[39mfp \u001b[38;5;241m=\u001b[39m \u001b[43mio\u001b[49m\u001b[38;5;241;43m.\u001b[39;49m\u001b[43mopen\u001b[49m\u001b[43m(\u001b[49m\u001b[43mfile\u001b[49m\u001b[43m,\u001b[49m\u001b[43m \u001b[49m\u001b[43mfilemode\u001b[49m\u001b[43m)\u001b[49m\n\u001b[1;32m   1255\u001b[0m     \u001b[38;5;28;01mexcept\u001b[39;00m \u001b[38;5;167;01mOSError\u001b[39;00m:\n\u001b[1;32m   1256\u001b[0m         \u001b[38;5;28;01mif\u001b[39;00m filemode \u001b[38;5;129;01min\u001b[39;00m modeDict:\n",
      "\u001b[0;31mFileNotFoundError\u001b[0m: [Errno 2] No such file or directory: '../data/Plant_leave_diseases_dataset_with_augmentation.zip'"
     ]
    }
   ],
   "source": [
    "def unzip(zip_path, extract_to):\n",
    "    # Ensure the extraction directory exists\n",
    "    if not os.path.exists(extract_to):\n",
    "        os.makedirs(extract_to)\n",
    "\n",
    "    # Open the zip file\n",
    "    with zipfile.ZipFile(zip_path, 'r') as zip_ref:\n",
    "        # Extract all the contents into the directory\n",
    "        zip_ref.extractall(extract_to)\n",
    "        print(f\"Files extracted to {extract_to}\")\n",
    "unzip(\"../data/Plant_leave_diseases_dataset_with_augmentation.zip\", \"../data/plant_disease\")"
   ]
  },
  {
   "cell_type": "code",
   "execution_count": 5,
   "id": "405d9f90-e6ac-4d0c-919f-c55af9252641",
   "metadata": {
    "tags": []
   },
   "outputs": [
    {
     "name": "stdin",
     "output_type": "stream",
     "text": [
      "Enter path to the folder containing disease folders:  data/Plant_leave_diseases_dataset_with_augmentation\n"
     ]
    },
    {
     "name": "stdout",
     "output_type": "stream",
     "text": [
      "Loading from Apple___Apple_scab...\n",
      "Loading from Apple___Black_rot...\n",
      "Loading from Apple___Cedar_apple_rust...\n",
      "Loading from Apple___healthy...\n",
      "Loading from Background_without_leaves...\n",
      "Loading from Blueberry___healthy...\n",
      "Loading from Cherry___Powdery_mildew...\n",
      "Loading from Cherry___healthy...\n",
      "Loading from Corn___Cercospora_leaf_spot Gray_leaf_spot...\n",
      "Loading from Corn___Common_rust...\n",
      "Loading from Corn___Northern_Leaf_Blight...\n",
      "Loading from Corn___healthy...\n",
      "Loading from Grape___Black_rot...\n",
      "Loading from Grape___Esca_(Black_Measles)...\n",
      "Loading from Grape___Leaf_blight_(Isariopsis_Leaf_Spot)...\n",
      "Loading from Grape___healthy...\n",
      "Loading from Orange___Haunglongbing_(Citrus_greening)...\n",
      "Loading from Peach___Bacterial_spot...\n",
      "Loading from Peach___healthy...\n",
      "Loading from Pepper,_bell___Bacterial_spot...\n",
      "Loading from Pepper,_bell___healthy...\n",
      "Loading from Potato___Early_blight...\n",
      "Loading from Potato___Late_blight...\n",
      "Loading from Potato___healthy...\n",
      "Loading from Raspberry___healthy...\n",
      "Loading from Soybean___healthy...\n",
      "Loading from Squash___Powdery_mildew...\n",
      "Loading from Strawberry___Leaf_scorch...\n",
      "Loading from Strawberry___healthy...\n",
      "Loading from Tomato___Bacterial_spot...\n",
      "Loading from Tomato___Early_blight...\n",
      "Loading from Tomato___Late_blight...\n",
      "Loading from Tomato___Leaf_Mold...\n",
      "Loading from Tomato___Septoria_leaf_spot...\n",
      "Loading from Tomato___Spider_mites Two-spotted_spider_mite...\n",
      "Loading from Tomato___Target_Spot...\n",
      "Loading from Tomato___Tomato_Yellow_Leaf_Curl_Virus...\n",
      "Loading from Tomato___Tomato_mosaic_virus...\n",
      "Loading from Tomato___healthy...\n",
      "Loaded 780 images from 39 disease classes\n"
     ]
    }
   ],
   "source": [
    "# Function to open and standardize images used in model\n",
    "\n",
    "def load_images(base_path, max_per_folder=20):\n",
    "    images = [] # Empty list to store images\n",
    "    labels = [] # Empty list to store label of each images\n",
    "    class_names = [] # Empty list to store the names of the folders for all images\n",
    "\n",
    "    for i, folder in enumerate(sorted(os.listdir(base_path))):\n",
    "        folder_path = os.path.join(base_path, folder) # Join base path with folders to iterate over\n",
    "        if not os.path.isdir(folder_path):\n",
    "            continue\n",
    "\n",
    "        class_names.append(folder)\n",
    "        print(f\"Loading from {folder}...\")\n",
    "\n",
    "        count = 0\n",
    "        for img_file in os.listdir(folder_path): # Iterate over each item in each folder\n",
    "            if count >= max_per_folder: # Stop when counter gets to 20 images\n",
    "                break\n",
    "\n",
    "            if img_file.lower().endswith(('.png', '.jpg', '.jpeg')): # Ensure file in folder is correct format\n",
    "                try:\n",
    "                    img_path = os.path.join(folder_path, img_file)\n",
    "                    with Image.open(img_path) as img: # Open image\n",
    "                        img = img.convert('RGB') # Convert it to RGB to standardize color channels\n",
    "                        img = img.resize((100, 100), Image.Resampling.LANCZOS) # Resize image using LANCZOS resampling method\n",
    "\n",
    "                    images.append(np.array(img)) # Convert image to array and add to image list\n",
    "                    labels.append(i) # Add label to label list \n",
    "                    count += 1\n",
    "                except Exception as e: # Print error message if error with a file\n",
    "                    print(f\"Error with {img_file}: {e}\")\n",
    "\n",
    "    return np.array(images), np.array(labels), class_names\n",
    "\n",
    "data_path = input(\"Enter path to the folder containing disease folders: \")\n",
    "images, labels, class_names = load_images(data_path)\n",
    "print(f\"Loaded {len(images)} images from {len(class_names)} disease classes\")"
   ]
  },
  {
   "cell_type": "markdown",
   "id": "eb94d180-726e-4a5e-93db-1436e00da8d0",
   "metadata": {},
   "source": [
    "## More preprocessing …\n",
    "\n",
    "Extract features from data and perform PCA\n",
    "PCA - principal component data"
   ]
  },
  {
   "cell_type": "code",
   "execution_count": 8,
   "id": "80aad46b-48c0-40ca-8096-11bd275fd2f3",
   "metadata": {
    "tags": []
   },
   "outputs": [
    {
     "name": "stdout",
     "output_type": "stream",
     "text": [
      "Feature shape: (780, 768)\n",
      "Reduced features shape: (780, 2)\n"
     ]
    },
    {
     "data": {
      "text/plain": [
       "array([[-0.00282361, -0.02355504],\n",
       "       [-0.00503367, -0.00732917],\n",
       "       [-0.00255762, -0.0288426 ],\n",
       "       ...,\n",
       "       [-0.00308966, -0.02260995],\n",
       "       [-0.0022436 , -0.01259051],\n",
       "       [-0.00139567, -0.01875976]], dtype=float32)"
      ]
     },
     "execution_count": 8,
     "metadata": {},
     "output_type": "execute_result"
    }
   ],
   "source": [
    "# Funciton to extract features and perform PCA\n",
    "def extract_features_and_reduce(images):\n",
    "    features = []\n",
    "    for img_array in images:\n",
    "        img = Image.fromarray(img_array)\n",
    "        histogram = np.array(img.histogram()).astype('float32')  # create histogram of image\n",
    "        histogram = histogram / histogram.sum()  # Normalize the histogram\n",
    "        features.append(histogram)\n",
    "    features = np.array(features)\n",
    "    print(f\"Feature shape: {features.shape}\")\n",
    "    \n",
    "    # Perform PCA\n",
    "    pca = PCA(n_components = 2)\n",
    "    reduced_features = pca.fit_transform(features) # fit PCA to feature matrix\n",
    "    print(f\"Reduced features shape: {reduced_features.shape}\")\n",
    "    \n",
    "    return reduced_features\n",
    "\n",
    "features = extract_features_and_reduce(images)\n",
    "features\n",
    "    \n",
    "    "
   ]
  },
  {
   "cell_type": "markdown",
   "id": "ed391f66-00d3-4536-a172-43c2f9eab9ff",
   "metadata": {},
   "source": [
    "## Create an interactive widget and visualize clustering\n",
    "\n",
    "### Function to run a KMeans model and create a visualization"
   ]
  },
  {
   "cell_type": "code",
   "execution_count": 12,
   "id": "21ffff0f-ebe2-4d06-976f-f8fb7e4ec073",
   "metadata": {
    "tags": []
   },
   "outputs": [
    {
     "data": {
      "application/vnd.jupyter.widget-view+json": {
       "model_id": "f4f360eb19a14ab3936dd387c60fea5a",
       "version_major": 2,
       "version_minor": 0
      },
      "text/plain": [
       "interactive(children=(IntSlider(value=3, description='Clusters', layout=Layout(width='80%'), max=15, min=2), O…"
      ]
     },
     "metadata": {},
     "output_type": "display_data"
    },
    {
     "data": {
      "text/plain": [
       "None"
      ]
     },
     "metadata": {},
     "output_type": "display_data"
    }
   ],
   "source": [
    "# Function to create interactive widget for clustering with visalization\n",
    "\n",
    "def create_interactive_widget(images, features, labels, class_names):\n",
    "    slider = IntSlider(value = 3, min = 2, max = 15, description = 'Clusters', layout = Layout(width = '80%'))\n",
    "    \n",
    "    # Function that updates the clusters based on the slider input from user\n",
    "    def update_clusters(cluster_num):\n",
    "        \n",
    "        plt.figure(figsize = (15,7))\n",
    "        \n",
    "        kmeans = KMeans(n_clusters = cluster_num, random_state = 42, n_init = 10)\n",
    "        cluster_labels = kmeans.fit_predict(features)\n",
    "        \n",
    "        # Visualize clusters\n",
    "        scatter = plt.scatter(features[:, 0], features[:, 1], c = cluster_labels, cmap = \"viridis\")\n",
    "        plt.title('PCA Reduced Features by Cluster Labels')\n",
    "        plt.xlabel('PCA Component 1')\n",
    "        plt.ylabel('PCA Component 2')\n",
    "        plt.grid(True)\n",
    "        \n",
    "        # Update legend\n",
    "        colors = plt.cm.viridis(np.linspace(0,1, cluster_num))\n",
    "        \n",
    "        legends = [Patch(facecolor = clr, label = f'Cluster {i+1}') for i,clr, in enumerate(colors)]\n",
    "        plt.legend(handles = legends, title = \"Clusters\")\n",
    "        \n",
    "        # Show plot\n",
    "        plt.tight_layout()\n",
    "        plt.show()\n",
    "        \n",
    "        # Print observation results for each cluster\n",
    "        print(f\"Results for {cluster_num} clusters:\")\n",
    "        \n",
    "        for i in range(cluster_num):\n",
    "            print(f\"Cluster {i+1}: {np.sum(cluster_labels == i)} samples\")\n",
    "            \n",
    "        # Display a few images from each cluster\n",
    "        for i in range(cluster_num):\n",
    "            \n",
    "            plt.figure(figsize = (15,5))\n",
    "            \n",
    "            # Find the indices of all images that belong to the current cluster\n",
    "            cluster_indices = np.where(cluster_labels == i)[0]\n",
    "            \n",
    "            # Randomly select 5 indices for each cluster\n",
    "            selected_indices = np.random.choice(cluster_indices, min(len(cluster_indices), 5), replace = False)\n",
    "            \n",
    "            for j, idx, in enumerate(selected_indices):\n",
    "                \n",
    "                plt.subplot(1, 5, j+1)\n",
    "                plt.imshow(images[idx])\n",
    "                plt.title(f\"Cluster {i+1}\")\n",
    "                plt.axis('off')\n",
    "            plt.show()\n",
    "        \n",
    "    interact(update_clusters, cluster_num = slider)\n",
    "    \n",
    "knn_widget = create_interactive_widget(images, features, labels, class_names)\n",
    "display(knn_widget)\n",
    "    "
   ]
  },
  {
   "cell_type": "code",
   "execution_count": null,
   "id": "41acb002-8633-4709-9228-c98113b58e1c",
   "metadata": {},
   "outputs": [],
   "source": []
  }
 ],
 "metadata": {
  "kernelspec": {
   "display_name": "Anaconda 3 (EDS232)",
   "language": "python",
   "name": "ml-env"
  },
  "language_info": {
   "codemirror_mode": {
    "name": "ipython",
    "version": 3
   },
   "file_extension": ".py",
   "mimetype": "text/x-python",
   "name": "python",
   "nbconvert_exporter": "python",
   "pygments_lexer": "ipython3",
   "version": "3.10.16"
  }
 },
 "nbformat": 4,
 "nbformat_minor": 5
}
